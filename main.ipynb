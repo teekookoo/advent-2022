{
 "cells": [
  {
   "cell_type": "markdown",
   "id": "6105cb79",
   "metadata": {
    "tags": []
   },
   "source": [
    "# Setup"
   ]
  },
  {
   "cell_type": "markdown",
   "id": "8a311e04",
   "metadata": {
    "tags": []
   },
   "source": [
    "## Imports"
   ]
  },
  {
   "cell_type": "code",
   "execution_count": 1,
   "id": "a6d156cc",
   "metadata": {},
   "outputs": [],
   "source": [
    "# builtins\n",
    "from __future__ import annotations\n",
    "from collections import defaultdict, deque\n",
    "from dataclasses import dataclass\n",
    "from enum import Enum\n",
    "import functools\n",
    "import itertools\n",
    "import math\n",
    "import operator\n",
    "\n",
    "# own stuff\n",
    "from utils import Stopwatch, chunksof\n",
    "\n",
    "# external stuff\n",
    "import numpy as np\n",
    "import matplotlib.pyplot as plt\n",
    "from scipy.spatial.transform import Rotation as R\n",
    "import z3"
   ]
  },
  {
   "cell_type": "markdown",
   "id": "61cf5e66",
   "metadata": {},
   "source": [
    "## Timing"
   ]
  },
  {
   "cell_type": "code",
   "execution_count": 2,
   "id": "366727a5",
   "metadata": {},
   "outputs": [],
   "source": [
    "stopwatch = Stopwatch()\n",
    "stopwatch.start()"
   ]
  },
  {
   "cell_type": "markdown",
   "id": "d7194ecd",
   "metadata": {
    "jp-MarkdownHeadingCollapsed": true,
    "tags": []
   },
   "source": [
    "# Day 1"
   ]
  },
  {
   "cell_type": "markdown",
   "id": "6312997c",
   "metadata": {},
   "source": [
    "## Process input"
   ]
  },
  {
   "cell_type": "code",
   "execution_count": null,
   "id": "f9893cc8",
   "metadata": {},
   "outputs": [],
   "source": [
    "with open('inputs/01') as f:\n",
    "    chunks = f.read().rstrip().split('\\n\\n')\n",
    "cals = [sum(int(n) for n in c.splitlines()) for c in chunks]"
   ]
  },
  {
   "cell_type": "markdown",
   "id": "09c7187a",
   "metadata": {},
   "source": [
    "## Part 1"
   ]
  },
  {
   "cell_type": "code",
   "execution_count": null,
   "id": "dc249c23",
   "metadata": {},
   "outputs": [],
   "source": [
    "print(max(cals))\n",
    "stopwatch.add_split()"
   ]
  },
  {
   "cell_type": "markdown",
   "id": "8ee18d20",
   "metadata": {
    "tags": []
   },
   "source": [
    "## Part 2"
   ]
  },
  {
   "cell_type": "code",
   "execution_count": null,
   "id": "1bbad0a3",
   "metadata": {},
   "outputs": [],
   "source": [
    "print(sum(sorted(cals)[-3:]))\n",
    "stopwatch.add_split()"
   ]
  },
  {
   "cell_type": "markdown",
   "id": "a07947ff",
   "metadata": {
    "jp-MarkdownHeadingCollapsed": true,
    "tags": []
   },
   "source": [
    "# Day 2"
   ]
  },
  {
   "cell_type": "markdown",
   "id": "069be05f",
   "metadata": {},
   "source": [
    "## Process input"
   ]
  },
  {
   "cell_type": "code",
   "execution_count": null,
   "id": "3dec1409",
   "metadata": {},
   "outputs": [],
   "source": [
    "mapping = {\n",
    "    'A': 0, 'B': 1, 'C': 2,\n",
    "    'X': 0, 'Y': 1, 'Z': 2,\n",
    "}\n",
    "\n",
    "with open('inputs/02') as f:\n",
    "    rounds = [(mapping[a], mapping[b]) for a, b in (line.strip().split() for line in f)]"
   ]
  },
  {
   "cell_type": "markdown",
   "id": "a951f7ac",
   "metadata": {},
   "source": [
    "## Part 1"
   ]
  },
  {
   "cell_type": "code",
   "execution_count": null,
   "id": "bb0a142c",
   "metadata": {},
   "outputs": [],
   "source": [
    "succ = lambda a: (a + 1) % 3\n",
    "pred = lambda a: (a - 1) % 3\n",
    "    \n",
    "def score_round(a, b):\n",
    "    if a == b:\n",
    "        return b + 4\n",
    "    elif b == succ(a):\n",
    "        return b + 7\n",
    "    else:\n",
    "        return b + 1\n",
    "\n",
    "print(sum(score_round(*x) for x in rounds))\n",
    "stopwatch.add_split()"
   ]
  },
  {
   "cell_type": "markdown",
   "id": "20219f8c",
   "metadata": {},
   "source": [
    "## Part 2"
   ]
  },
  {
   "cell_type": "code",
   "execution_count": null,
   "id": "6ca89084",
   "metadata": {},
   "outputs": [],
   "source": [
    "def score_round(a, b):\n",
    "    if b == 0:\n",
    "        return pred(a) + 1\n",
    "    elif b == 1:\n",
    "        return a + 4\n",
    "    else:\n",
    "        return succ(a) + 7\n",
    "\n",
    "print(sum(score_round(*x) for x in rounds))\n",
    "stopwatch.add_split()"
   ]
  },
  {
   "cell_type": "markdown",
   "id": "f69043db",
   "metadata": {
    "jp-MarkdownHeadingCollapsed": true,
    "tags": []
   },
   "source": [
    "# Day 3"
   ]
  },
  {
   "cell_type": "markdown",
   "id": "ab20eec4",
   "metadata": {
    "tags": []
   },
   "source": [
    "## Process input"
   ]
  },
  {
   "cell_type": "code",
   "execution_count": null,
   "id": "711dc1fb",
   "metadata": {},
   "outputs": [],
   "source": [
    "def to_sack(contents):\n",
    "    n = len(contents)\n",
    "    assert n % 2 == 0\n",
    "    i = n//2\n",
    "    return set(contents[:i]), set(contents[i:])\n",
    "\n",
    "with open('inputs/03') as f:\n",
    "    sacks = [to_sack(line.rstrip()) for line in f]"
   ]
  },
  {
   "cell_type": "markdown",
   "id": "2b7bd63f",
   "metadata": {},
   "source": [
    "## Part 1"
   ]
  },
  {
   "cell_type": "code",
   "execution_count": null,
   "id": "36274e7c-5008-4d74-84c2-5df2d2a3a0d1",
   "metadata": {},
   "outputs": [],
   "source": [
    "def priority(item):\n",
    "    if 'a' <= item <= 'z':\n",
    "        return ord(item) - ord('a') + 1\n",
    "    else:\n",
    "        return ord(item) - ord('A') + 27\n",
    "\n",
    "print(sum(priority(*(a & b)) for a, b in sacks))\n",
    "stopwatch.add_split()"
   ]
  },
  {
   "cell_type": "markdown",
   "id": "1971c959",
   "metadata": {},
   "source": [
    "## Part 2"
   ]
  },
  {
   "cell_type": "code",
   "execution_count": null,
   "id": "3600eeb9",
   "metadata": {},
   "outputs": [],
   "source": [
    "merged = (a | b for a, b in sacks)\n",
    "groups = chunksof(3, merged)\n",
    "badges = (a & b & c for a, b, c in groups)\n",
    "print(sum(priority(*b) for b in badges))\n",
    "stopwatch.add_split()"
   ]
  },
  {
   "cell_type": "markdown",
   "id": "33f54391",
   "metadata": {
    "jp-MarkdownHeadingCollapsed": true,
    "tags": []
   },
   "source": [
    "# Day 4"
   ]
  },
  {
   "cell_type": "markdown",
   "id": "d0b00161",
   "metadata": {},
   "source": [
    "## Process input"
   ]
  },
  {
   "cell_type": "code",
   "execution_count": null,
   "id": "234e29a7",
   "metadata": {},
   "outputs": [],
   "source": [
    "def parse_range(r):\n",
    "    start, end = r.split('-')\n",
    "    return int(start), int(end)\n",
    "\n",
    "def parse_row(r):\n",
    "    a, b = r.rstrip().split(',')\n",
    "    return parse_range(a), parse_range(b)\n",
    "\n",
    "with open('inputs/04') as f:\n",
    "    pairs = [parse_row(r) for r in f]"
   ]
  },
  {
   "cell_type": "markdown",
   "id": "0ed48b22",
   "metadata": {},
   "source": [
    "## Part 1"
   ]
  },
  {
   "cell_type": "code",
   "execution_count": null,
   "id": "a7d5b75b-fd94-4c41-91cd-3008993fdc49",
   "metadata": {},
   "outputs": [],
   "source": [
    "def intersect(a, b):\n",
    "    (x, y) = a\n",
    "    (z, w) = b\n",
    "    overlap = x <= w and y >= z\n",
    "    if overlap:\n",
    "        return (max(x, z), min(y, w))\n",
    "    else:\n",
    "        return None\n",
    "\n",
    "def fully_contained(a, b):\n",
    "    x = intersect(a, b)\n",
    "    return a == x or b == x\n",
    "\n",
    "print(sum(1 for a, b in pairs if fully_contained(a, b)))\n",
    "stopwatch.add_split()"
   ]
  },
  {
   "cell_type": "markdown",
   "id": "b3da16aa",
   "metadata": {},
   "source": [
    "## Part 2"
   ]
  },
  {
   "cell_type": "code",
   "execution_count": null,
   "id": "54c11dce",
   "metadata": {},
   "outputs": [],
   "source": [
    "print(sum(1 for a, b in pairs if intersect(a, b) != None))\n",
    "stopwatch.add_split()"
   ]
  },
  {
   "cell_type": "markdown",
   "id": "3d8dce7d",
   "metadata": {
    "jp-MarkdownHeadingCollapsed": true,
    "tags": []
   },
   "source": [
    "# Day 5"
   ]
  },
  {
   "cell_type": "markdown",
   "id": "b3e2186a",
   "metadata": {},
   "source": [
    "## Process input"
   ]
  },
  {
   "cell_type": "code",
   "execution_count": null,
   "id": "3326fed7",
   "metadata": {},
   "outputs": [],
   "source": [
    "def parse_container_line(s):\n",
    "    containers = []\n",
    "    for i, j in enumerate(range(1, len(s), 4)):\n",
    "        if s[j] == ' ':\n",
    "            continue\n",
    "        containers.append((i, s[j]))\n",
    "    return containers\n",
    "\n",
    "def parse_command_line(s):\n",
    "    parts = s.split()\n",
    "    return int(parts[1]), int(parts[3]) - 1, int(parts[5]) - 1\n",
    "\n",
    "with open('inputs/05') as f:\n",
    "    container_string, command_string = f.read().rstrip().split('\\n\\n')\n",
    "\n",
    "container_lines = container_string.split('\\n')\n",
    "command_lines = command_string.split('\\n')\n",
    "\n",
    "num_stacks = len(container_lines[-1].strip().split())\n",
    "stacks = [[] for _ in range(num_stacks)]\n",
    "for line in reversed(container_lines[:-1]):\n",
    "    for stack, container in parse_container_line(line):\n",
    "        stacks[stack].append(container)\n",
    "\n",
    "commands = [parse_command_line(l) for l in command_lines]"
   ]
  },
  {
   "cell_type": "markdown",
   "id": "52f85392",
   "metadata": {},
   "source": [
    "## Part 1"
   ]
  },
  {
   "cell_type": "code",
   "execution_count": null,
   "id": "9830d1e8",
   "metadata": {},
   "outputs": [],
   "source": [
    "def apply(command, stacks):\n",
    "    num, src, dst = command\n",
    "    for _ in range(num):\n",
    "        stacks[dst].append(stacks[src].pop())\n",
    "\n",
    "stacks_copy = [s.copy() for s in stacks]\n",
    "for c in commands:\n",
    "    apply(c, stacks_copy)\n",
    "    \n",
    "print(''.join(s[-1] for s in stacks_copy))\n",
    "stopwatch.add_split()"
   ]
  },
  {
   "cell_type": "markdown",
   "id": "ae20a055",
   "metadata": {},
   "source": [
    "## Part 2"
   ]
  },
  {
   "cell_type": "code",
   "execution_count": null,
   "id": "9b6ea002",
   "metadata": {},
   "outputs": [],
   "source": [
    "def apply(command, stacks):\n",
    "    num, src, dst = command\n",
    "    stacks[dst] += stacks[src][-num:]\n",
    "    del stacks[src][-num:]\n",
    "\n",
    "stacks_copy = [s.copy() for s in stacks]\n",
    "for c in commands:\n",
    "    apply(c, stacks_copy)\n",
    "    \n",
    "print(''.join(s[-1] for s in stacks_copy))\n",
    "stopwatch.add_split()"
   ]
  },
  {
   "cell_type": "markdown",
   "id": "8692bf0b",
   "metadata": {
    "jp-MarkdownHeadingCollapsed": true,
    "tags": []
   },
   "source": [
    "# Day 6"
   ]
  },
  {
   "cell_type": "markdown",
   "id": "54cc1f8a",
   "metadata": {},
   "source": [
    "## Process input"
   ]
  },
  {
   "cell_type": "code",
   "execution_count": null,
   "id": "a49b3c9f",
   "metadata": {},
   "outputs": [],
   "source": [
    "with open('inputs/06') as f:\n",
    "    signal = f.read().rstrip()"
   ]
  },
  {
   "cell_type": "markdown",
   "id": "f5b82b13",
   "metadata": {},
   "source": [
    "## Part 1"
   ]
  },
  {
   "cell_type": "code",
   "execution_count": null,
   "id": "4aea71c9",
   "metadata": {},
   "outputs": [],
   "source": [
    "def marker_index(num_chars, signal):\n",
    "    for i in range(0, len(signal)-num_chars):\n",
    "        j = i + num_chars\n",
    "        if len(set(signal[i:j])) == num_chars:\n",
    "            return j\n",
    "        \n",
    "    assert False, \"A signal start was not found\"\n",
    "\n",
    "print(marker_index(4, signal))\n",
    "stopwatch.add_split()"
   ]
  },
  {
   "cell_type": "markdown",
   "id": "b3076247",
   "metadata": {},
   "source": [
    "## Part 2"
   ]
  },
  {
   "cell_type": "code",
   "execution_count": null,
   "id": "191cc9bb",
   "metadata": {},
   "outputs": [],
   "source": [
    "print(marker_index(14, signal))\n",
    "stopwatch.add_split()"
   ]
  },
  {
   "cell_type": "markdown",
   "id": "f5d5b2de",
   "metadata": {
    "jp-MarkdownHeadingCollapsed": true,
    "tags": []
   },
   "source": [
    "# Day 7"
   ]
  },
  {
   "cell_type": "markdown",
   "id": "a3c54059",
   "metadata": {},
   "source": [
    "## Process input"
   ]
  },
  {
   "cell_type": "code",
   "execution_count": null,
   "id": "1ad26015",
   "metadata": {},
   "outputs": [],
   "source": [
    "@dataclass\n",
    "class Directory:\n",
    "    name: str\n",
    "    contents: dict[str, Node]\n",
    "    \n",
    "    def __eq__(self, other):\n",
    "        return self.name == other.name\n",
    "\n",
    "@dataclass\n",
    "class File:\n",
    "    name: str\n",
    "    size: int\n",
    "    \n",
    "    def __eq__(self, other):\n",
    "        return self.name == other.name\n",
    "\n",
    "Node = Directory | File\n",
    "\n",
    "def parse_node(s):\n",
    "    match s.split():\n",
    "        case [\"dir\", name]:\n",
    "            return Directory(name, {})\n",
    "        case [size, name]:\n",
    "            return File(name, int(size))\n",
    "\n",
    "with open('inputs/07') as f:\n",
    "    blocks = [b.strip().split('\\n') for b in f.read().split('$')[1:]]\n",
    "\n",
    "root = Directory('root', {})\n",
    "current = root\n",
    "history = []\n",
    "for cmd, *output in blocks:\n",
    "    match cmd.split():\n",
    "        case ['cd', '/']:\n",
    "            current = root\n",
    "            history = []\n",
    "        case ['cd', '..']:\n",
    "            current = history.pop()\n",
    "        case ['cd', dst]:\n",
    "            history.append(current)\n",
    "            current = current.contents[dst]\n",
    "        case ['ls']:\n",
    "            nodes = (parse_node(s) for s in output)\n",
    "            current.contents = {n.name: n for n in nodes}"
   ]
  },
  {
   "cell_type": "markdown",
   "id": "d07a69fd",
   "metadata": {},
   "source": [
    "## Part 1"
   ]
  },
  {
   "cell_type": "code",
   "execution_count": null,
   "id": "4cedb931",
   "metadata": {},
   "outputs": [],
   "source": [
    "def dirsizes(directory):\n",
    "    self_size = 0\n",
    "    sizes = []\n",
    "    for node in directory.contents.values():\n",
    "        match node:\n",
    "            case File(_, sz):\n",
    "                self_size += sz\n",
    "            case Directory(_, _):\n",
    "                sizes += dirsizes(node)\n",
    "                self_size += sizes[-1]\n",
    "    sizes.append(self_size)\n",
    "    return sizes\n",
    "\n",
    "ds = dirsizes(root)\n",
    "print(sum(sz for sz in ds if sz <= 100_000))\n",
    "stopwatch.add_split()"
   ]
  },
  {
   "cell_type": "markdown",
   "id": "ba01534c",
   "metadata": {},
   "source": [
    "## Part 2"
   ]
  },
  {
   "cell_type": "code",
   "execution_count": null,
   "id": "ae256e49",
   "metadata": {},
   "outputs": [],
   "source": [
    "min_del_size = 30_000_000 - (70_000_000 - ds[-1])\n",
    "\n",
    "print(min(sz for sz in ds if sz >= min_del_size))\n",
    "stopwatch.add_split()"
   ]
  },
  {
   "cell_type": "markdown",
   "id": "cd7f3063",
   "metadata": {
    "jp-MarkdownHeadingCollapsed": true,
    "tags": []
   },
   "source": [
    "# Day 8"
   ]
  },
  {
   "cell_type": "markdown",
   "id": "c660287c",
   "metadata": {},
   "source": [
    "## Process input"
   ]
  },
  {
   "cell_type": "code",
   "execution_count": null,
   "id": "b5464dc3",
   "metadata": {},
   "outputs": [],
   "source": [
    "with open('inputs/08') as f:\n",
    "    trees = np.array([[int(c) for c in row.rstrip()] for row in f], dtype=int)"
   ]
  },
  {
   "cell_type": "markdown",
   "id": "d22d89d5",
   "metadata": {},
   "source": [
    "## Part 1"
   ]
  },
  {
   "cell_type": "code",
   "execution_count": null,
   "id": "a46e2293",
   "metadata": {},
   "outputs": [],
   "source": [
    "def visible(trees):\n",
    "    (m, n) = trees.shape\n",
    "    vis = np.ones_like(trees, dtype=bool)\n",
    "    rows = np.s_[1:m-1]\n",
    "    cols = np.s_[1:n-1]\n",
    "    vis[rows, cols] = False\n",
    "    \n",
    "    # horizontal\n",
    "    for j in range(1, n-1):\n",
    "        h = trees[rows, j]\n",
    "        vis[rows, j] |= np.all(trees[rows,    :j].T < h, axis=0)\n",
    "        vis[rows, j] |= np.all(trees[rows, j+1: ].T < h, axis=0)\n",
    "    \n",
    "    # vertical\n",
    "    for i in range(1, m-1):\n",
    "        h = trees[i, cols]\n",
    "        vis[i, cols] |= np.all(trees[   :i, cols] < h, axis=0)\n",
    "        vis[i, cols] |= np.all(trees[i+1: , cols] < h, axis=0)\n",
    "    \n",
    "    return vis\n",
    "    \n",
    "\n",
    "print(visible(trees).sum())\n",
    "stopwatch.add_split()"
   ]
  },
  {
   "cell_type": "markdown",
   "id": "617c6e4b",
   "metadata": {},
   "source": [
    "## Part 2"
   ]
  },
  {
   "cell_type": "code",
   "execution_count": null,
   "id": "3296febf",
   "metadata": {},
   "outputs": [],
   "source": [
    "def num_vis(trees, h):\n",
    "    vis = np.multiply.accumulate(trees < h, dtype=bool, axis=0)\n",
    "    n = np.sum(vis, axis=0)\n",
    "    n[np.logical_not(np.all(vis, axis=0))] += 1\n",
    "    return n\n",
    "\n",
    "def scenic_score(trees):\n",
    "    (m, n) = trees.shape\n",
    "    score = np.zeros_like(trees)\n",
    "    rows = np.s_[1:m-1]\n",
    "    cols = np.s_[1:n-1]\n",
    "    score[rows, cols] = 1\n",
    "    \n",
    "    # horizontal\n",
    "    for j in range(1, n-1):\n",
    "        h = trees[rows, j]\n",
    "        score[rows, j] *= num_vis(trees[rows, j-1::-1].T, h)\n",
    "        score[rows, j] *= num_vis(trees[rows, j+1:   ].T, h)\n",
    "    \n",
    "    # vertical\n",
    "    for i in range(1, m-1):\n",
    "        h = trees[i, cols]\n",
    "        score[i, cols] *= num_vis(trees[i-1::-1, cols], h)\n",
    "        score[i, cols] *= num_vis(trees[i+1:   , cols], h)\n",
    "    \n",
    "    return score\n",
    "\n",
    "print(np.amax(scenic_score(trees)))\n",
    "stopwatch.add_split()"
   ]
  },
  {
   "cell_type": "markdown",
   "id": "751a1b4f",
   "metadata": {
    "jp-MarkdownHeadingCollapsed": true,
    "tags": []
   },
   "source": [
    "# Day 9"
   ]
  },
  {
   "cell_type": "markdown",
   "id": "cc6395f7",
   "metadata": {},
   "source": [
    "## Process input"
   ]
  },
  {
   "cell_type": "code",
   "execution_count": null,
   "id": "496c3926",
   "metadata": {},
   "outputs": [],
   "source": [
    "def parse_motions(f):\n",
    "    for l in f:\n",
    "        d, n = l.rstrip().split()\n",
    "        if d == 'U':\n",
    "            d = [0, 1]\n",
    "        elif d == 'D':\n",
    "            d = [0, -1]\n",
    "        elif d == 'L':\n",
    "            d = [-1, 0]\n",
    "        else:\n",
    "            d = [1, 0]\n",
    "        \n",
    "        for _ in range(int(n)):\n",
    "            yield d\n",
    "        \n",
    "\n",
    "with open('inputs/09') as f:\n",
    "    motions = np.array(list(parse_motions(f)), dtype=int)"
   ]
  },
  {
   "cell_type": "markdown",
   "id": "d94df6c6",
   "metadata": {},
   "source": [
    "## Part 1"
   ]
  },
  {
   "cell_type": "code",
   "execution_count": null,
   "id": "61bff6b6",
   "metadata": {},
   "outputs": [],
   "source": [
    "def dt(h, t):\n",
    "    distance = h - t\n",
    "    dt = np.zeros(2, dtype=int)\n",
    "    if np.amax(np.abs(distance)) <= 1:\n",
    "        return dt\n",
    "    else:\n",
    "        return np.sign(distance)\n",
    "\n",
    "def simulate(motions, num_knots):\n",
    "    num_steps = len(motions) + 1\n",
    "    knots = np.zeros((num_knots, num_steps, 2))\n",
    "    knots[0] = np.add.accumulate(np.insert(motions, 0, 0, axis=0))\n",
    "    \n",
    "    for knot in range(1, num_knots):\n",
    "        for step in range(1, num_steps):\n",
    "            h = knots[knot-1, step  , :]\n",
    "            t = knots[knot  , step-1, :]\n",
    "            knots[knot, step, :] = t + dt(h, t)\n",
    "    \n",
    "    return knots\n",
    "\n",
    "knots = simulate(motions, 2)\n",
    "print(len({(x, y) for x, y in knots[1]}))\n",
    "stopwatch.add_split()"
   ]
  },
  {
   "cell_type": "markdown",
   "id": "f5c8f35f",
   "metadata": {},
   "source": [
    "## Part 2"
   ]
  },
  {
   "cell_type": "code",
   "execution_count": null,
   "id": "92b28e1c",
   "metadata": {},
   "outputs": [],
   "source": [
    "knots = simulate(motions, 10)\n",
    "print(len({(x, y) for x, y in knots[-1]}))\n",
    "stopwatch.add_split()"
   ]
  },
  {
   "cell_type": "markdown",
   "id": "4fbeddd1",
   "metadata": {
    "jp-MarkdownHeadingCollapsed": true,
    "tags": []
   },
   "source": [
    "# Day 10"
   ]
  },
  {
   "cell_type": "markdown",
   "id": "90fd1b79",
   "metadata": {},
   "source": [
    "## Process input"
   ]
  },
  {
   "cell_type": "code",
   "execution_count": null,
   "id": "ce07c462",
   "metadata": {},
   "outputs": [],
   "source": [
    "def run(instructions):\n",
    "    x = 1\n",
    "    for instruction in instructions:\n",
    "        match instruction.split():\n",
    "            case ['addx', num]:\n",
    "                yield x\n",
    "                yield x\n",
    "                x += int(num)\n",
    "            case ['noop']:\n",
    "                yield x\n",
    "\n",
    "with open('inputs/10') as f:\n",
    "    x = np.fromiter(run(f.readlines()), dtype=int)"
   ]
  },
  {
   "cell_type": "markdown",
   "id": "5534c983",
   "metadata": {},
   "source": [
    "## Part 1"
   ]
  },
  {
   "cell_type": "code",
   "execution_count": null,
   "id": "362b878d",
   "metadata": {},
   "outputs": [],
   "source": [
    "cycle = np.arange(1, len(x)+1)\n",
    "idx = np.s_[19:221:40]\n",
    "print(np.sum(x[idx]*cycle[idx]))\n",
    "stopwatch.add_split()"
   ]
  },
  {
   "cell_type": "markdown",
   "id": "70d651b2",
   "metadata": {},
   "source": [
    "## Part 2"
   ]
  },
  {
   "cell_type": "code",
   "execution_count": null,
   "id": "c0e3589c",
   "metadata": {},
   "outputs": [],
   "source": [
    "img = np.ones((6, 40))\n",
    "for i in range(6):\n",
    "    for j in range(40):\n",
    "        spritepos = x[40*i + j]\n",
    "        if spritepos - 1 <= j <= spritepos + 1:\n",
    "            img[i, j] = 0\n",
    "\n",
    "plt.imshow(img, cmap='gray')\n",
    "plt.show()\n",
    "\n",
    "stopwatch.add_split()"
   ]
  },
  {
   "cell_type": "markdown",
   "id": "bb863c22",
   "metadata": {
    "jp-MarkdownHeadingCollapsed": true,
    "tags": []
   },
   "source": [
    "# Day 11"
   ]
  },
  {
   "cell_type": "markdown",
   "id": "222651b9",
   "metadata": {},
   "source": [
    "## Process input"
   ]
  },
  {
   "cell_type": "code",
   "execution_count": null,
   "id": "b213a39d-0c40-42fd-a5f2-bf8501f7a4b8",
   "metadata": {
    "tags": []
   },
   "outputs": [],
   "source": [
    "class Monkey:\n",
    "    def __init__(self, s):\n",
    "        [idline, itemline, opline, testline, trueline, falseline] = [\n",
    "            l.strip(' :') for l in s.splitlines()\n",
    "        ]\n",
    "        self.counter = 0\n",
    "        \n",
    "        match idline.split():\n",
    "            case ['Monkey', num]:\n",
    "                self.id = int(num)\n",
    "            case _:\n",
    "                raise ValueError(f'Failed to match {idline}')\n",
    "                \n",
    "        match itemline.split():\n",
    "            case ['Starting', 'items:', *items]:\n",
    "                self.initial_items = [int(it.rstrip(',')) for it in items]\n",
    "                self.items = self.initial_items.copy()\n",
    "            case _:\n",
    "                raise ValueError(f'Failed to match {itemline}')\n",
    "                \n",
    "        match opline.split():\n",
    "            case ['Operation:', 'new', '=', 'old', '+', 'old']:\n",
    "                self.op = lambda x: x + x\n",
    "            case ['Operation:', 'new', '=', 'old', '*', 'old']:\n",
    "                self.op = lambda x: x * x\n",
    "            case ['Operation:', 'new', '=', 'old', '+', y]:\n",
    "                operand = int(y)\n",
    "                self.op = lambda x: x + operand\n",
    "            case ['Operation:', 'new', '=', 'old', '*', y]:\n",
    "                operand = int(y)\n",
    "                self.op = lambda x: x * operand\n",
    "            case _:\n",
    "                raise ValueError(f'Failed to match {opline}')\n",
    "                \n",
    "        match testline.split():\n",
    "            case ['Test:', 'divisible', 'by', y]:\n",
    "                divisor = int(y)\n",
    "                self.div = divisor\n",
    "                self.test = lambda x: x % divisor == 0\n",
    "            case _:\n",
    "                raise ValueError(f'Failed to match {testline}')\n",
    "                \n",
    "        match trueline.split():\n",
    "            case ['If', 'true:', 'throw', 'to', 'monkey', y]:\n",
    "                recipient_t = int(y)\n",
    "                self.true = recipient_t\n",
    "            case _:\n",
    "                raise ValueError(f'Failed to match {trueline}')\n",
    "                \n",
    "        match falseline.split():\n",
    "            case ['If', 'false:', 'throw', 'to', 'monkey', y]:\n",
    "                recipient_f = int(y)\n",
    "                self.false = recipient_f\n",
    "            case _:\n",
    "                raise ValueError(f'Failed to match {falseline}')\n",
    "        \n",
    "    def do_turn(self, monkies):\n",
    "        for item in self.items:\n",
    "            self.counter += 1\n",
    "            item = self.op(item) // 3\n",
    "            if self.test(item):\n",
    "                monkies[self.true].items.append(item)\n",
    "            else:\n",
    "                monkies[self.false].items.append(item)\n",
    "        self.items = []\n",
    "    \n",
    "    def do_turn_2(self, monkies, lcm):\n",
    "        for item in self.items:\n",
    "            self.counter += 1\n",
    "            item = self.op(item) % lcm\n",
    "            if self.test(item):\n",
    "                monkies[self.true].items.append(item)\n",
    "            else:\n",
    "                monkies[self.false].items.append(item)\n",
    "        self.items = []\n",
    "    \n",
    "    def reset(self):\n",
    "        self.counter = 0\n",
    "        self.items = self.initial_items.copy()\n",
    "\n",
    "with open('inputs/11') as f:\n",
    "    monkies = [Monkey(s) for s in f.read().rstrip().split('\\n\\n')]"
   ]
  },
  {
   "cell_type": "markdown",
   "id": "9e7abe87",
   "metadata": {},
   "source": [
    "## Part 1"
   ]
  },
  {
   "cell_type": "code",
   "execution_count": null,
   "id": "02e76698-846f-4247-abc6-4835f69bb0fa",
   "metadata": {},
   "outputs": [],
   "source": [
    "for _ in range(20):\n",
    "    for monkey in monkies:\n",
    "        monkey.do_turn(monkies)\n",
    "\n",
    "print(np.prod(np.sort([monkey.counter for monkey in monkies])[-2:]))\n",
    "\n",
    "stopwatch.add_split()"
   ]
  },
  {
   "cell_type": "markdown",
   "id": "40c1b4d8",
   "metadata": {},
   "source": [
    "## Part 2"
   ]
  },
  {
   "cell_type": "code",
   "execution_count": null,
   "id": "fcee6416-2500-4c92-9798-45466df43bd2",
   "metadata": {},
   "outputs": [],
   "source": [
    "for m in monkies:\n",
    "    m.reset()\n",
    "\n",
    "lcm = np.lcm.reduce([m.div for m in monkies])\n",
    "\n",
    "for _ in range(10000):\n",
    "    for monkey in monkies:\n",
    "        monkey.do_turn_2(monkies, lcm)\n",
    "\n",
    "print(np.prod(np.sort([monkey.counter for monkey in monkies])[-2:]))\n",
    "\n",
    "stopwatch.add_split()"
   ]
  },
  {
   "cell_type": "markdown",
   "id": "6ba54974-3088-45ba-8ca0-c767c9cd1bf0",
   "metadata": {
    "jp-MarkdownHeadingCollapsed": true,
    "tags": []
   },
   "source": [
    "# Day 12"
   ]
  },
  {
   "cell_type": "markdown",
   "id": "dd029954-628f-41cd-a215-22100461e4fe",
   "metadata": {},
   "source": [
    "## Process input"
   ]
  },
  {
   "cell_type": "code",
   "execution_count": null,
   "id": "91d5657c-d621-4854-b8e7-27abb7a5c9a3",
   "metadata": {},
   "outputs": [],
   "source": [
    "elevations = []\n",
    "\n",
    "with open('inputs/12') as f:\n",
    "    for i, line in enumerate(f):\n",
    "        el = []\n",
    "        for j, c in enumerate(line.rstrip()):\n",
    "            match c:\n",
    "                case 'S':\n",
    "                    el.append(0)\n",
    "                    start = (i, j)\n",
    "                case 'E':\n",
    "                    el.append(ord('z') - ord('a'))\n",
    "                    end = (i, j)\n",
    "                case _:\n",
    "                    el.append(ord(c) - ord('a'))\n",
    "        elevations.append(el)\n",
    "\n",
    "elevations = np.array(elevations)"
   ]
  },
  {
   "cell_type": "markdown",
   "id": "65cf8378-8fc4-49b8-b032-810f14b38c6a",
   "metadata": {},
   "source": [
    "## Part 1"
   ]
  },
  {
   "cell_type": "code",
   "execution_count": null,
   "id": "f7e80ea2-a374-4f3d-b1fc-45df7d70abe2",
   "metadata": {},
   "outputs": [],
   "source": [
    "def distances(elevations, start):\n",
    "    (M, N) = elevations.shape\n",
    "    def neighbors(i, j):\n",
    "        return (\n",
    "            (k, l)\n",
    "            for k, l in [(i-1, j), (i+1, j), (i, j-1), (i, j+1)]\n",
    "            if k in range(M) and l in range(N)\n",
    "            and elevations[i, j] + 1 >= elevations[k, l]\n",
    "        )\n",
    "    \n",
    "    visit = deque([(start, 0)])\n",
    "    visited = np.zeros_like(elevations, dtype=bool)\n",
    "    steps = np.full(elevations.shape, np.iinfo(int).max)\n",
    "    while len(visit) > 0:\n",
    "        idx, counter = visit.popleft()\n",
    "        if visited[idx]:\n",
    "            continue\n",
    "        steps[idx] = counter\n",
    "        visited[idx] = True\n",
    "        visit.extend(((nb, counter+1) for nb in neighbors(*idx) if not visited[nb]))\n",
    "\n",
    "    return steps\n",
    "\n",
    "print(distances(elevations, start)[end])\n",
    "stopwatch.add_split()"
   ]
  },
  {
   "cell_type": "markdown",
   "id": "4e459e85-b7b9-4e88-9ffd-1a0cf97e2289",
   "metadata": {},
   "source": [
    "## Part 2"
   ]
  },
  {
   "cell_type": "code",
   "execution_count": null,
   "id": "2090e0ba-1b82-41f4-84d0-5df8cb21ae6e",
   "metadata": {},
   "outputs": [],
   "source": [
    "print(distances(-elevations, end)[elevations == 0].min())\n",
    "stopwatch.add_split()"
   ]
  },
  {
   "cell_type": "markdown",
   "id": "6316bac3-0df0-4a7f-8b5c-ce0ed1e6a254",
   "metadata": {
    "jp-MarkdownHeadingCollapsed": true,
    "tags": []
   },
   "source": [
    "# Day 13"
   ]
  },
  {
   "cell_type": "markdown",
   "id": "38894127-1797-45b7-8f16-280729502e46",
   "metadata": {},
   "source": [
    "## Process input"
   ]
  },
  {
   "cell_type": "code",
   "execution_count": null,
   "id": "8cc2f4ea",
   "metadata": {},
   "outputs": [],
   "source": [
    "with open('inputs/13') as f:\n",
    "    packets = [eval(p) for p in f.read().split()]"
   ]
  },
  {
   "cell_type": "markdown",
   "id": "c70bc9e7-f6f8-4e3b-a6ef-86e7547796fc",
   "metadata": {},
   "source": [
    "## Part 1"
   ]
  },
  {
   "cell_type": "code",
   "execution_count": null,
   "id": "7bd014c6",
   "metadata": {},
   "outputs": [],
   "source": [
    "def compare(a, b):\n",
    "    match (a, b):\n",
    "        case (int(x), int(y)):\n",
    "            return x - y\n",
    "        case (int(x), list(ys)):\n",
    "            return compare([x], ys)\n",
    "        case (list(xs), int(y)):\n",
    "            return compare(xs, [y])\n",
    "        case ([], []):\n",
    "            return 0\n",
    "        case ([], [y, *ys]):\n",
    "            return -1\n",
    "        case ([x, *xs], []):\n",
    "            return 1\n",
    "        case ([x, *xs], [y, *ys]):\n",
    "            return cmp if (cmp := compare(x, y)) != 0 else compare(xs, ys)\n",
    "        case _:\n",
    "            raise ValueError(\"No match\")\n",
    "\n",
    "pairs = zip(packets[0::2], packets[1::2])\n",
    "print(sum(i+1 for i, p in enumerate(pairs) if compare(*p) < 0))\n",
    "\n",
    "stopwatch.add_split()"
   ]
  },
  {
   "cell_type": "markdown",
   "id": "01a3dda8-26c1-427b-bffc-fb8fc17b0b3b",
   "metadata": {},
   "source": [
    "## Part 2"
   ]
  },
  {
   "cell_type": "code",
   "execution_count": null,
   "id": "6edd6018",
   "metadata": {},
   "outputs": [],
   "source": [
    "dividers = [ [[2]], [[6]] ]\n",
    "sorted_packets = sorted(packets + dividers, key=functools.cmp_to_key(compare))\n",
    "print(math.prod(sorted_packets.index(d) + 1 for d in dividers))\n",
    "\n",
    "stopwatch.add_split()"
   ]
  },
  {
   "cell_type": "markdown",
   "id": "1f2a86b9",
   "metadata": {
    "jp-MarkdownHeadingCollapsed": true,
    "tags": []
   },
   "source": [
    "# Day 14"
   ]
  },
  {
   "cell_type": "markdown",
   "id": "70d8e495",
   "metadata": {},
   "source": [
    "## Process input"
   ]
  },
  {
   "cell_type": "code",
   "execution_count": null,
   "id": "48e05e50",
   "metadata": {},
   "outputs": [],
   "source": [
    "Tile = Enum('Tile', ['ROCK', 'SAND'])\n",
    "initial_cave = {}\n",
    "\n",
    "def connect(points):\n",
    "    for a, b in zip(points[:-1], points[1:]):\n",
    "        d = np.sign(b - a)\n",
    "        k = 0\n",
    "        while not np.all((p := a + k*d) == b):\n",
    "            yield p[0], p[1]\n",
    "            k += 1\n",
    "    yield b[0], b[1]\n",
    "            \n",
    "with open('inputs/14') as f:\n",
    "    for line in f:\n",
    "        points = np.array([eval(p) for p in line.rstrip().split(' -> ')])\n",
    "        initial_cave |= {p: Tile.ROCK for p in connect(points)}"
   ]
  },
  {
   "cell_type": "markdown",
   "id": "ed2e1163",
   "metadata": {},
   "source": [
    "## Part 1"
   ]
  },
  {
   "cell_type": "code",
   "execution_count": null,
   "id": "a7ae36db",
   "metadata": {},
   "outputs": [],
   "source": [
    "cave = initial_cave.copy()\n",
    "lowest_rock = max(y for _, y in cave)\n",
    "\n",
    "visit = [(500, 0)]\n",
    "count = 0\n",
    "while True:\n",
    "    x, y = visit[-1]\n",
    "    if y == lowest_rock:\n",
    "        break\n",
    "        \n",
    "    neighbors = tuple(p for p in ((x+1, y+1), (x-1, y+1), (x, y+1)) if p not in cave)\n",
    "    if not neighbors:\n",
    "        cave[visit.pop()] = Tile.SAND\n",
    "        count += 1\n",
    "    else:\n",
    "        visit.extend(neighbors)\n",
    "\n",
    "print(count)\n",
    "stopwatch.add_split()"
   ]
  },
  {
   "cell_type": "markdown",
   "id": "943cddec",
   "metadata": {},
   "source": [
    "## Part 2"
   ]
  },
  {
   "cell_type": "code",
   "execution_count": null,
   "id": "d9dc1490",
   "metadata": {},
   "outputs": [],
   "source": [
    "cave = initial_cave.copy()\n",
    "floor_level = max(y for _, y in cave) + 2\n",
    "\n",
    "visit = [(500, 0)]\n",
    "count = 0\n",
    "while visit:\n",
    "    x, y = visit.pop()\n",
    "    cave[x, y] = Tile.SAND\n",
    "    count += 1\n",
    "    if y < floor_level - 1:\n",
    "        visit.extend(p for p in ((x+1, y+1), (x-1, y+1), (x, y+1)) if p not in cave)\n",
    "\n",
    "print(count)\n",
    "stopwatch.add_split()"
   ]
  },
  {
   "cell_type": "markdown",
   "id": "4745dcf5",
   "metadata": {
    "jp-MarkdownHeadingCollapsed": true,
    "tags": []
   },
   "source": [
    "# Day 15"
   ]
  },
  {
   "cell_type": "markdown",
   "id": "8e77b228",
   "metadata": {},
   "source": [
    "## Process input"
   ]
  },
  {
   "cell_type": "code",
   "execution_count": null,
   "id": "de5620b1",
   "metadata": {},
   "outputs": [],
   "source": [
    "def parse(line):\n",
    "    parts = [p.strip('xy=:,') for p in line.split()]\n",
    "    return (int(parts[2]), int(parts[3])), (int(parts[8]), int(parts[9]))\n",
    "\n",
    "with open('inputs/15') as f:\n",
    "    sensors, beacons = (list(x) for x in zip(*(parse(l) for l in f)))"
   ]
  },
  {
   "cell_type": "markdown",
   "id": "a6590108",
   "metadata": {},
   "source": [
    "## Part 1"
   ]
  },
  {
   "cell_type": "code",
   "execution_count": null,
   "id": "e8a4875b",
   "metadata": {},
   "outputs": [],
   "source": [
    "def dist(p, q):\n",
    "    match p, q:\n",
    "        case (x, y), (z, w):\n",
    "            return abs(x - z) + abs(y - w)\n",
    "        case _:\n",
    "            raise ValueError(f'Invalid points {p}, {q}')\n",
    "\n",
    "def merge(unmerged):\n",
    "    if not unmerged:\n",
    "        return []\n",
    "    \n",
    "    merged = [unmerged[0]]\n",
    "    i = 0\n",
    "    j = 1\n",
    "    while j < len(unmerged):\n",
    "        a, b = merged[i]\n",
    "        c, d = unmerged[j]\n",
    "        if c <= b:\n",
    "            merged[i] = (a, max(b, d))\n",
    "        else:\n",
    "            merged.append((c, d))\n",
    "            i += 1\n",
    "        j += 1\n",
    "    return merged\n",
    "            \n",
    "ranges = [dist(s, b) for s, b in zip(sensors, beacons)]\n",
    "y = 2_000_000\n",
    "no_beacons = merge(sorted(\n",
    "    (sx - dx, sx + dx + 1)\n",
    "    for (sx, sy), r in zip(sensors, ranges)\n",
    "    if (dx := r - abs(sy - y)) >= 0\n",
    "))\n",
    "\n",
    "num_beacons = sum(1 for _, by in set(beacons) if by == y)\n",
    "print(sum(b - a for a, b in no_beacons) - num_beacons)\n",
    "\n",
    "stopwatch.add_split()"
   ]
  },
  {
   "cell_type": "markdown",
   "id": "c82520bc",
   "metadata": {},
   "source": [
    "## Part 2"
   ]
  },
  {
   "cell_type": "code",
   "execution_count": null,
   "id": "7f5e04a5",
   "metadata": {},
   "outputs": [],
   "source": [
    "N = 4_000_000\n",
    "\n",
    "sol = z3.Solver()\n",
    "px = z3.Int('px')\n",
    "py = z3.Int('py')\n",
    "tf = z3.Int('Tuning frequency')\n",
    "\n",
    "dist = lambda sx, sy: (\n",
    "    z3.If(sx - px < 0, px - sx, sx - px) + \n",
    "    z3.If(sy - py < 0, py - sy, sy - py)\n",
    ")\n",
    "\n",
    "sol.add(px >= 0, py >= 0, px <= N, py <= N)\n",
    "sol.add([dist(sx, sy) > r for (sx, sy), r in zip(sensors, ranges)])\n",
    "sol.add(tf == 4_000_000 * px + py)\n",
    "\n",
    "if sol.check().r == 1:\n",
    "    print(sol.model()[tf])\n",
    "else:\n",
    "    print('unsat :(')\n",
    "\n",
    "stopwatch.add_split()"
   ]
  },
  {
   "cell_type": "markdown",
   "id": "b0fcaa9d",
   "metadata": {
    "jp-MarkdownHeadingCollapsed": true,
    "tags": []
   },
   "source": [
    "# Day 16"
   ]
  },
  {
   "cell_type": "markdown",
   "id": "f46f4278",
   "metadata": {},
   "source": [
    "## Process input"
   ]
  },
  {
   "cell_type": "code",
   "execution_count": null,
   "id": "86be7b22-fdc9-4711-90d5-1ca5affa8335",
   "metadata": {},
   "outputs": [],
   "source": [
    "def parse(row):\n",
    "    parts = row.split()\n",
    "    valve = parts[1]\n",
    "    flow_rate = int(parts[4].strip('rate=;'))\n",
    "    neighbors = [p.rstrip(',') for p in parts[9:]]\n",
    "    return valve, (flow_rate, neighbors)\n",
    "\n",
    "with open('inputs/16') as f:\n",
    "    rows = [parse(row) for row in f]\n",
    "    \n",
    "graph = {v: vs for v, (_, vs) in rows}\n",
    "flow_rate = {v: f for v, (f, _) in rows}"
   ]
  },
  {
   "cell_type": "markdown",
   "id": "c3688103",
   "metadata": {},
   "source": [
    "## Part 1"
   ]
  },
  {
   "cell_type": "code",
   "execution_count": null,
   "id": "39bc7af2",
   "metadata": {},
   "outputs": [],
   "source": [
    "def prune_impossibles(states, t, flow_rate):\n",
    "    max_value = max(states.values())\n",
    "    \n",
    "    def value_ub(value, opened):\n",
    "        unopened = sorted((f for u, f in flow_rate.items() if u not in opened), reverse=True)\n",
    "        return value + sum(t_ * f for t_, f in zip(range(t-1, 1, -2), unopened))\n",
    "    \n",
    "    return {(u, o): v for (u, o), v in states.items() if value_ub(v, o) >= max_value}\n",
    "\n",
    "def max_release(graph, flow_rate, debug=False):\n",
    "    history = set()\n",
    "    visit = [('AA', frozenset(), 0)]\n",
    "    for t in range(30, 0, -1):\n",
    "        if debug:\n",
    "            print(f't = {t}')\n",
    "            print(f'  {len(visit)} visit(s)')\n",
    "        states = defaultdict(lambda: 0)\n",
    "        for u, opened, value in visit:\n",
    "            states[u, opened] = max(states[u, opened], value)\n",
    "            history.add((u, opened, value))\n",
    "        \n",
    "        if debug:\n",
    "            print(f'  {len(states)} state(s)')\n",
    "        \n",
    "        states = prune_impossibles(states, t, flow_rate)\n",
    "        \n",
    "        if debug:\n",
    "            print(f'  {len(states)} pruned state(s)')\n",
    "        \n",
    "        visit = []\n",
    "        for (u, opened), value in states.items():\n",
    "            if u not in opened and flow_rate[u] > 0:\n",
    "                u_open = opened | {u}\n",
    "                u_value = value + (t-1)*flow_rate[u]\n",
    "                if (u, u_open, u_value) not in history:\n",
    "                    visit.append((u, u_open, u_value))\n",
    "            visit.extend((v, opened, value) for v in graph[u] if (v, opened, value) not in history)\n",
    "                \n",
    "            \n",
    "    return max(states.values())\n",
    "\n",
    "print(max_release(graph, flow_rate, debug=False))\n",
    "\n",
    "stopwatch.add_split()"
   ]
  },
  {
   "cell_type": "markdown",
   "id": "650c6d74",
   "metadata": {},
   "source": [
    "## Part 2"
   ]
  },
  {
   "cell_type": "code",
   "execution_count": null,
   "id": "8caef4c1",
   "metadata": {},
   "outputs": [],
   "source": [
    "def prune_impossibles(states, t, flow_rate):\n",
    "    max_value = max(states.values())\n",
    "    \n",
    "    def value_ub(value, opened):\n",
    "        unopened = sorted((f for u, f in flow_rate.items() if u not in opened), reverse=True)\n",
    "        return value + sum(t_ * (f + g) for t_, f, g in zip(range(t-1, 1, -2), unopened[::2], unopened[1::2]))\n",
    "    \n",
    "    return {(uv, o): v for (uv, o), v in states.items() if value_ub(v, o) >= max_value}\n",
    "\n",
    "def psort(a, b):\n",
    "    return (a, b) if a <= b else (b, a)\n",
    "\n",
    "def max_release(graph, flow_rate, debug=False):\n",
    "    history = set()\n",
    "    visit = [(('AA', 'AA'), frozenset(), 0)]\n",
    "    for t in range(26, 0, -1):\n",
    "        if not visit:\n",
    "            break\n",
    "            \n",
    "        if debug:\n",
    "            print(f't = {t}')\n",
    "            print(f'  {len(visit)} visit(s)')\n",
    "        \n",
    "        states = defaultdict(lambda: 0)\n",
    "        for uv, opened, value in visit:\n",
    "            states[uv, opened] = max(states[uv, opened], value)\n",
    "        history |= set(visit)\n",
    "        \n",
    "        if debug:\n",
    "            print(f'  {len(states)} state(s)')\n",
    "        \n",
    "        states = prune_impossibles(states, t, flow_rate)\n",
    "        \n",
    "        if debug:\n",
    "            print(f'  {len(states)} pruned state(s)')\n",
    "        \n",
    "        visit = set()\n",
    "        for ((u, v), opened), value in states.items():\n",
    "            # Case 1: open both u and v\n",
    "            can_open_u = u not in opened and flow_rate[u] > 0\n",
    "            can_open_v = v not in opened and flow_rate[v] > 0 and v != u\n",
    "            if can_open_u and can_open_v:\n",
    "                opened_ = opened | {u, v}\n",
    "                value_ = value + (t-1)*(flow_rate[u] + flow_rate[v])\n",
    "                visit.add(((u, v), opened_, value_))\n",
    "                \n",
    "            # Case 2: open u, move from v\n",
    "            if can_open_u:\n",
    "                opened_ = opened | {u}\n",
    "                value_ = value + (t-1)*flow_rate[u]\n",
    "                visit |= {(psort(u, v_), opened_, value_) for v_ in graph[v]}\n",
    "            \n",
    "            # Case 3: move from u, open v\n",
    "            if can_open_v:\n",
    "                opened_ = opened | {v}\n",
    "                value_ = value + (t-1)*flow_rate[v]\n",
    "                visit |= {(psort(u_, v), opened_, value_) for u_ in graph[u]}\n",
    "            \n",
    "            # Case 4: move from both u and v\n",
    "            visit |= {(psort(u_, v_), opened, value) for u_ in graph[u] for v_ in graph[v]}\n",
    "        visit = [v for v in visit if v not in history]\n",
    "                \n",
    "            \n",
    "    return max(states.values())\n",
    "\n",
    "print(max_release(graph, flow_rate, debug=False))\n",
    "\n",
    "stopwatch.add_split()"
   ]
  },
  {
   "cell_type": "markdown",
   "id": "29c04a67-b725-4f9e-a4ad-04d7a3f0b140",
   "metadata": {
    "jp-MarkdownHeadingCollapsed": true,
    "tags": []
   },
   "source": [
    "# Day 17"
   ]
  },
  {
   "cell_type": "markdown",
   "id": "447175dc-7018-4d13-af3d-bdb4fcbf78be",
   "metadata": {},
   "source": [
    "## Process input"
   ]
  },
  {
   "cell_type": "code",
   "execution_count": null,
   "id": "ed8e2fd0",
   "metadata": {},
   "outputs": [],
   "source": [
    "with open('inputs/17') as f:\n",
    "    jets = [-1 if c == '<' else 1 for c in f.read().rstrip()]"
   ]
  },
  {
   "cell_type": "markdown",
   "id": "5c87c31a-25bf-436e-b588-971c0b077e6c",
   "metadata": {},
   "source": [
    "## Part 1"
   ]
  },
  {
   "cell_type": "code",
   "execution_count": null,
   "id": "5907ed82",
   "metadata": {},
   "outputs": [],
   "source": [
    "def rocks(n):\n",
    "    generators = [\n",
    "        lambda dx, dy: {\n",
    "            (x + dx, y + dy) for x, y in [ (0, 0), (1, 0), (2, 0), (3, 0) ]\n",
    "        },\n",
    "        lambda dx, dy: {\n",
    "            (x + dx, y + dy) for x, y in [ (0, 1), (1, 0), (1, 1), (1, 2), (2, 1) ]\n",
    "        },\n",
    "        lambda dx, dy: {\n",
    "            (x + dx, y + dy) for x, y in [ (0, 0), (1, 0), (2, 0), (2, 1), (2, 2) ]\n",
    "        },\n",
    "        lambda dx, dy: {\n",
    "            (x + dx, y + dy) for x, y in [ (0, 0), (0, 1), (0, 2), (0, 3) ]\n",
    "        },\n",
    "        lambda dx, dy: {\n",
    "            (x + dx, y + dy) for x, y in [ (0, 0), (0, 1), (1, 0), (1, 1) ]\n",
    "        }\n",
    "    ]\n",
    "    for i in range(n):\n",
    "        yield generators[i % 5]\n",
    "    \n",
    "def heights(n):\n",
    "    chamber = set()\n",
    "    h = 0\n",
    "    yield h\n",
    "    movements = itertools.cycle(jets)\n",
    "    for rock_gen in rocks(n):\n",
    "        rock = rock_gen(2, h + 4)\n",
    "\n",
    "        for dx in movements:\n",
    "            # horizontal\n",
    "            rock, prev = { (x + dx, y) for x, y in rock }, rock\n",
    "            if chamber & rock or any(x < 0 or x >= 7 for x, _ in rock):\n",
    "                rock = prev\n",
    "\n",
    "            # vertical\n",
    "            rock, prev = { (x, y - 1) for x, y in rock }, rock\n",
    "            if chamber & rock or min(y for _, y in rock) == 0:\n",
    "                rock = prev\n",
    "                break\n",
    "\n",
    "        chamber |= rock\n",
    "        h = max(h, *(y for _, y in rock))\n",
    "        yield h\n",
    "\n",
    "print(max(h for h in heights(2022)))\n",
    "\n",
    "stopwatch.add_split()"
   ]
  },
  {
   "cell_type": "markdown",
   "id": "729c3f30-613b-4584-ad48-70826899de9d",
   "metadata": {},
   "source": [
    "## Part 2"
   ]
  },
  {
   "cell_type": "code",
   "execution_count": null,
   "id": "5353bc4d",
   "metadata": {},
   "outputs": [],
   "source": [
    "def find_period(dy, fingerprint_size=100):\n",
    "    N = len(dy)\n",
    "    a, b = N-fingerprint_size, N\n",
    "    fingerprint = dy[-fingerprint_size:]\n",
    "    period = 1\n",
    "    while period <= a and np.any(fingerprint != dy[a-period : b-period]):\n",
    "        period += 1\n",
    "    if period > a:\n",
    "        raise ValueError('dy does not contain a period')\n",
    "    return period\n",
    "\n",
    "def warmup_length(dy, period, fingerprint_size=100):\n",
    "    wu = 0\n",
    "    while np.any(dy[wu:wu+fingerprint_size] != dy[wu+period:wu+period+fingerprint_size]):\n",
    "        wu += 1\n",
    "    return wu\n",
    "\n",
    "def height_after(n, y):\n",
    "    if n < len(y):\n",
    "        return y[n]\n",
    "    \n",
    "    dy = np.diff(y)\n",
    "    period = find_period(dy)\n",
    "    warmup = warmup_length(dy, period)\n",
    "    \n",
    "    n -= warmup\n",
    "    dy = dy[warmup:warmup+period]\n",
    "    \n",
    "    return y[warmup] + n//period * dy.sum() + dy[:n%period].sum()\n",
    "\n",
    "target = 1_000_000_000_000\n",
    "print(height_after(target, np.fromiter(heights(3000), dtype=int)))\n",
    "\n",
    "stopwatch.add_split()"
   ]
  },
  {
   "cell_type": "markdown",
   "id": "1e87b95a",
   "metadata": {
    "jp-MarkdownHeadingCollapsed": true,
    "tags": []
   },
   "source": [
    "# Day 18"
   ]
  },
  {
   "cell_type": "markdown",
   "id": "5814a743",
   "metadata": {},
   "source": [
    "## Process input"
   ]
  },
  {
   "cell_type": "code",
   "execution_count": null,
   "id": "d57c95c8",
   "metadata": {},
   "outputs": [],
   "source": [
    "with open('inputs/18') as f:\n",
    "    droplet = {eval(xyz) for xyz in f}"
   ]
  },
  {
   "cell_type": "markdown",
   "id": "68a0f515",
   "metadata": {},
   "source": [
    "## Part 1"
   ]
  },
  {
   "cell_type": "code",
   "execution_count": null,
   "id": "793c9ec9",
   "metadata": {},
   "outputs": [],
   "source": [
    "def neighbors(x, y, z):\n",
    "    return {(  x,   y, z-1), (  x,   y, z+1),\n",
    "            (  x, y-1,   z), (  x, y+1,   z),\n",
    "            (x-1,   y,   z), (x+1,   y,   z)}\n",
    "    \n",
    "def regions(droplet):\n",
    "    d = droplet.copy()\n",
    "    regions = []\n",
    "    while d:\n",
    "        region = set()\n",
    "        source = d.pop()\n",
    "        add_to_region = [source]\n",
    "        while add_to_region:\n",
    "            cell = add_to_region.pop()\n",
    "            region.add(cell)\n",
    "            nbs = neighbors(*cell) & d\n",
    "            d -= nbs\n",
    "            add_to_region.extend(nbs)\n",
    "        regions.append(region)\n",
    "    return regions\n",
    "\n",
    "def area(region):\n",
    "    A = 0\n",
    "    cells = set()\n",
    "    for cell in region:\n",
    "        A += 6 - 2*len(neighbors(*cell) & cells)\n",
    "        cells.add(cell)\n",
    "    return A\n",
    "\n",
    "rs = regions(droplet)\n",
    "print(sum(area(r) for r in rs))"
   ]
  },
  {
   "cell_type": "markdown",
   "id": "6d706301",
   "metadata": {},
   "source": [
    "## Part 2"
   ]
  },
  {
   "cell_type": "code",
   "execution_count": null,
   "id": "b9b38da5",
   "metadata": {},
   "outputs": [],
   "source": [
    "def air_pockets(droplet):\n",
    "    xs = [x for x, _, _ in droplet]\n",
    "    ys = [y for _, y, _ in droplet]\n",
    "    zs = [z for _, _, z in droplet]\n",
    "    rx = range(min(xs) - 1, max(xs) + 2)\n",
    "    ry = range(min(ys) - 1, max(ys) + 2)\n",
    "    rz = range(min(zs) - 1, max(zs) + 2)\n",
    "    air = {(x, y, z) for x in rx for y in ry for z in rz if (x, y, z) not in droplet}\n",
    "    anchor = (rx[0], ry[0], rz[0])\n",
    "    return (r for r in regions(air) if anchor not in r)\n",
    "\n",
    "filled_droplet = droplet.union(*air_pockets(droplet))\n",
    "print(area(filled_droplet))"
   ]
  },
  {
   "cell_type": "markdown",
   "id": "dfca3be1",
   "metadata": {
    "jp-MarkdownHeadingCollapsed": true,
    "tags": []
   },
   "source": [
    "# Day 19"
   ]
  },
  {
   "cell_type": "markdown",
   "id": "785d5e12",
   "metadata": {},
   "source": [
    "## Process input"
   ]
  },
  {
   "cell_type": "code",
   "execution_count": null,
   "id": "0e5f6399",
   "metadata": {},
   "outputs": [],
   "source": [
    "def parse(blueprint):\n",
    "    parts = blueprint.split()\n",
    "    id_ = int(parts[1].rstrip(':'))\n",
    "    costs = np.array([\n",
    "        [int(parts[6]), 0, 0, 0],\n",
    "        [int(parts[12]), 0, 0, 0],\n",
    "        [int(parts[18]), int(parts[21]), 0, 0],\n",
    "        [int(parts[27]), 0, int(parts[30]), 0]\n",
    "    ])\n",
    "    return id_, costs\n",
    "\n",
    "with open('inputs/19') as f:\n",
    "    blueprints = [parse(bp) for bp in f]"
   ]
  },
  {
   "cell_type": "markdown",
   "id": "af4d3a7e",
   "metadata": {},
   "source": [
    "## Part 1"
   ]
  },
  {
   "cell_type": "code",
   "execution_count": null,
   "id": "871dd66b",
   "metadata": {},
   "outputs": [],
   "source": [
    "def value(blueprint, n):\n",
    "    id_, costs = blueprint\n",
    "    robot_ub = costs.max(axis=0)\n",
    "    robot_ub[3] = 100\n",
    "    new_robot = np.eye(4, dtype=int)\n",
    "    best = 0\n",
    "    stack = [(n, np.array((0, 0, 0, 0)), np.array((1, 0, 0, 0)))]\n",
    "    while stack:\n",
    "        time, resources, robots = stack.pop()\n",
    "        best = max(best, resources[3] + time*robots[3])\n",
    "        \n",
    "        if time <= 1:\n",
    "            continue\n",
    "        \n",
    "        value_ub = resources[3] + time*robots[3] + time*(time-1) // 2\n",
    "        if value_ub <= best:\n",
    "            continue\n",
    "        \n",
    "        under_ub = robots < robot_ub\n",
    "        production_towards = np.array([True, True, robots[1] > 0, robots[2] > 0])\n",
    "        for i in np.nonzero(under_ub & production_towards)[0]:\n",
    "            t = time\n",
    "            re = resources.copy()\n",
    "            while any(costs[i] > re):\n",
    "                t -= 1\n",
    "                re += robots\n",
    "            if t > 1:\n",
    "                stack.append((t - 1, re + robots - costs[i], robots + new_robot[i]))\n",
    "    \n",
    "    return best\n",
    "\n",
    "\n",
    "print(sum(bp[0] * value(bp, 24) for bp in blueprints))\n",
    "\n",
    "stopwatch.add_split()"
   ]
  },
  {
   "cell_type": "markdown",
   "id": "27a0bafc",
   "metadata": {},
   "source": [
    "## Part 2"
   ]
  },
  {
   "cell_type": "code",
   "execution_count": null,
   "id": "d36b4395",
   "metadata": {},
   "outputs": [],
   "source": [
    "print(math.prod(value(bp, 32) for bp in blueprints[:3]))\n",
    "\n",
    "stopwatch.add_split()"
   ]
  },
  {
   "cell_type": "markdown",
   "id": "0671d7fe",
   "metadata": {
    "jp-MarkdownHeadingCollapsed": true,
    "tags": []
   },
   "source": [
    "# Day 20"
   ]
  },
  {
   "cell_type": "markdown",
   "id": "c1c3f7fd",
   "metadata": {},
   "source": [
    "## Process input"
   ]
  },
  {
   "cell_type": "code",
   "execution_count": null,
   "id": "6d5683a7-1bfa-4656-8e45-3918300f3bc9",
   "metadata": {},
   "outputs": [],
   "source": [
    "with open('inputs/20') as f:\n",
    "    numbers = [int(n) for n in f]"
   ]
  },
  {
   "cell_type": "markdown",
   "id": "11161238",
   "metadata": {},
   "source": [
    "## Part 1"
   ]
  },
  {
   "cell_type": "code",
   "execution_count": null,
   "id": "1cb71d44-9d39-4c5e-aa83-e1bb35dd3923",
   "metadata": {},
   "outputs": [],
   "source": [
    "class Number:\n",
    "    def __init__(self, value):\n",
    "        self.value = value\n",
    "        self.pred = None\n",
    "        self.succ = None\n",
    "    \n",
    "    def move(self, k):\n",
    "        for _ in range(k):\n",
    "            # a -> self -> b -> c ...\n",
    "            a = self.pred\n",
    "            b = self.succ\n",
    "            c = b.succ\n",
    "            # ... to a -> b -> self -> c\n",
    "            a.succ = b\n",
    "            b.succ = self\n",
    "            self.succ = c\n",
    "            c.pred = self\n",
    "            self.pred = b\n",
    "            b.pred = a\n",
    "    \n",
    "    def to_list(self, n):\n",
    "        l = []\n",
    "        num = self\n",
    "        for _ in range(n):\n",
    "            l.append(num.value)\n",
    "            num = num.succ\n",
    "        return l\n",
    "\n",
    "def mix(numlist, N):\n",
    "    for n in numlist:\n",
    "        n.move(n.value % (N - 1))\n",
    "    \n",
    "\n",
    "numlist = [Number(n) for n in numbers]\n",
    "\n",
    "for pred, n, succ in zip([numlist[-1], *numlist[:-1]], numlist, [*numlist[1:], numlist[0]]):\n",
    "    n.pred = pred\n",
    "    n.succ = succ\n",
    "\n",
    "N = len(numbers)\n",
    "mix(numlist, N)\n",
    "\n",
    "l = numlist[0].to_list(N)\n",
    "i0 = l.index(0)\n",
    "print(sum(l[(i0 + k) % N] for k in (1000, 2000, 3000)))\n",
    "\n",
    "stopwatch.add_split()"
   ]
  },
  {
   "cell_type": "markdown",
   "id": "2989d630",
   "metadata": {},
   "source": [
    "## Part 2"
   ]
  },
  {
   "cell_type": "code",
   "execution_count": null,
   "id": "f464ff06-ecc7-414c-95f4-488766316a4b",
   "metadata": {},
   "outputs": [],
   "source": [
    "dk = 811589153\n",
    "\n",
    "numlist = [Number(dk * n) for n in numbers]\n",
    "\n",
    "for pred, n, succ in zip([numlist[-1], *numlist[:-1]], numlist, [*numlist[1:], numlist[0]]):\n",
    "    n.pred = pred\n",
    "    n.succ = succ\n",
    "\n",
    "N = len(numbers)\n",
    "for _ in range(10):\n",
    "    mix(numlist, N)\n",
    "\n",
    "l = numlist[0].to_list(N)\n",
    "i0 = l.index(0)\n",
    "print(sum(l[(i0 + k) % N] for k in (1000, 2000, 3000)))\n",
    "\n",
    "stopwatch.add_split()"
   ]
  },
  {
   "cell_type": "markdown",
   "id": "d04d29bb-274b-4591-866b-f7383c9c979a",
   "metadata": {
    "jp-MarkdownHeadingCollapsed": true,
    "tags": []
   },
   "source": [
    "# Day 21"
   ]
  },
  {
   "cell_type": "markdown",
   "id": "59eb3be8-f3f5-4bb0-9309-8999a0958adf",
   "metadata": {},
   "source": [
    "## Process input"
   ]
  },
  {
   "cell_type": "code",
   "execution_count": null,
   "id": "b328f87f-3d1b-4bf8-8212-08f5a9943376",
   "metadata": {},
   "outputs": [],
   "source": [
    "def parse(row):\n",
    "    k, deps = row.split(': ')\n",
    "    f = {'+': operator.add, '-': operator.sub, '*': operator.mul, '/': operator.truediv}\n",
    "    match deps.split():\n",
    "        case [s]:\n",
    "            v = int(s)\n",
    "        case [a, op, b]:\n",
    "            v = (f[op], a, b)\n",
    "    return k, v\n",
    "\n",
    "with open('inputs/21') as f:\n",
    "    monke = {k: v for k, v in (parse(row) for row in f)}"
   ]
  },
  {
   "cell_type": "markdown",
   "id": "8c5c4cca-107e-4243-ad94-f3df2d4d01d9",
   "metadata": {},
   "source": [
    "## Part 1"
   ]
  },
  {
   "cell_type": "code",
   "execution_count": null,
   "id": "bcd3e0ce-2323-4751-8daa-d8f1c1faed09",
   "metadata": {},
   "outputs": [],
   "source": [
    "def evaluate(monke):\n",
    "    evaluated = monke.copy()\n",
    "    def inner(k):\n",
    "        match evaluated[k]:\n",
    "            case int(v):\n",
    "                pass\n",
    "            case (f, a, b):\n",
    "                v = f(inner(a), inner(b))\n",
    "            case _:\n",
    "                raise RuntimeError(f'Failed to match {evaluated[k]}')\n",
    "        # print(f'{k} -> {v}')\n",
    "        evaluated[k] = v\n",
    "        return v\n",
    "    inner('root')\n",
    "    return evaluated\n",
    "\n",
    "print(evaluate(monke)['root'])\n",
    "\n",
    "stopwatch.add_split()"
   ]
  },
  {
   "cell_type": "markdown",
   "id": "1f4a55c1-5ad3-4478-aee6-34b4cde19d99",
   "metadata": {},
   "source": [
    "## Part 2"
   ]
  },
  {
   "cell_type": "code",
   "execution_count": null,
   "id": "6dbff368-c954-486d-ac2a-b8dfa43c8bd7",
   "metadata": {},
   "outputs": [],
   "source": [
    "def solve(monke):\n",
    "    fixed = monke.copy()\n",
    "    _, a, b = fixed['root']\n",
    "    fixed['root'] = (operator.eq, a, b)\n",
    "    del fixed['humn']\n",
    "    \n",
    "    s = z3.Solver()\n",
    "    consts = {'humn': z3.Real('humn'), 'root': z3.Bool('root')}\n",
    "    consts |= {k: z3.Real(k) for k in fixed if k != 'root'}\n",
    "    for k in fixed:\n",
    "        match fixed[k]:\n",
    "            case int(v):\n",
    "                s.add(consts[k] == v)\n",
    "            case (f, a, b):\n",
    "                s.add(consts[k] == f(consts[a], consts[b]))\n",
    "            case _:\n",
    "                raise RuntimeError(f'Failed to match {evaluated[k]}')\n",
    "    s.add(consts['root'] == True)\n",
    "    \n",
    "    print(s.check())\n",
    "    print()\n",
    "    m = s.model()\n",
    "    print(f'humn = {m[consts[\"humn\"]]}')\n",
    "    # print()\n",
    "    # print(*(f'{c} = {m[c]}' for c in m), sep='\\n')\n",
    "\n",
    "solve(monke)\n",
    "\n",
    "stopwatch.add_split()"
   ]
  },
  {
   "cell_type": "markdown",
   "id": "20975443-6044-4264-913c-d90e59fd5c53",
   "metadata": {
    "tags": []
   },
   "source": [
    "# Day 22"
   ]
  },
  {
   "cell_type": "markdown",
   "id": "1c6b951f-b2e7-4095-bd42-e6276a9aacd2",
   "metadata": {},
   "source": [
    "## Process input"
   ]
  },
  {
   "cell_type": "code",
   "execution_count": 3,
   "id": "25cb428a-12db-464a-8e60-d621c9ec5bea",
   "metadata": {},
   "outputs": [],
   "source": [
    "tiles = {}\n",
    "with open('inputs/22') as f:\n",
    "    map_, path_s = f.read().rstrip().split('\\n\\n')\n",
    "    map_ = map_.splitlines()\n",
    "    for y, row in enumerate(map_):\n",
    "        for x, tile in enumerate(row):\n",
    "            if tile != ' ':\n",
    "                tiles[x+1, y+1] = tile\n",
    "    \n",
    "    path = []\n",
    "    i = 0\n",
    "    while i < len(path_s):\n",
    "        if '0' <= path_s[i] <= '9':\n",
    "            j = i+1\n",
    "            while j < len(path_s) and '0' <= path_s[j] <= '9':\n",
    "                j += 1\n",
    "            path.append(int(path_s[i:j]))\n",
    "            i = j\n",
    "        elif path_s[i] == 'R':\n",
    "            path.append(1)\n",
    "            i += 1\n",
    "        else:\n",
    "            assert path_s[i] == 'L'\n",
    "            path.append(-1)\n",
    "            i += 1\n",
    "    path.reverse()\n",
    "\n",
    "graph = {}\n",
    "for x, y in tiles:\n",
    "    if tiles[x, y] == '#':\n",
    "        continue\n",
    "    graph[x, y] = [None] * 4\n",
    "    for i, (dx, dy) in enumerate([(1, 0), (0, 1), (-1, 0), (0, -1)]):\n",
    "        x_, y_ = x+dx, y+dy\n",
    "        if (x_, y_) not in tiles:\n",
    "            if dx < 0:\n",
    "                x_ = max(c for c, r in tiles if r == y)\n",
    "            elif dx > 0:\n",
    "                x_ = min(c for c, r in tiles if r == y)\n",
    "            elif dy < 0:\n",
    "                y_ = max(r for c, r in tiles if c == x)\n",
    "            else:\n",
    "                y_ = min(r for c, r in tiles if c == x)\n",
    "            \n",
    "                \n",
    "        if tiles[x_, y_] == '.':\n",
    "            graph[x, y][i] = (x_, y_)\n",
    "\n",
    "# print(*graph.items(), sep='\\n')\n",
    "# print()\n",
    "# print(path)"
   ]
  },
  {
   "cell_type": "markdown",
   "id": "88de0dee-76a3-42ff-b2de-e6052e490e76",
   "metadata": {},
   "source": [
    "## Part 1"
   ]
  },
  {
   "cell_type": "code",
   "execution_count": 4,
   "id": "32219024-2fb9-4885-81a6-f26e406503e8",
   "metadata": {},
   "outputs": [
    {
     "name": "stdout",
     "output_type": "stream",
     "text": [
      "89224\n"
     ]
    }
   ],
   "source": [
    "def solve(graph, path):\n",
    "    tile = min(x for x, y in graph if y == 1), 1\n",
    "    facing = 0\n",
    "    while path:\n",
    "        for _ in range(path.pop()):\n",
    "            if graph[tile][facing] == None:\n",
    "                break\n",
    "            tile = graph[tile][facing]\n",
    "        if path:\n",
    "            facing = (facing + path.pop()) % 4\n",
    "    c, r = tile\n",
    "    return 1000 * r + 4 * c + facing\n",
    "\n",
    "print(solve(graph, path.copy()))"
   ]
  },
  {
   "cell_type": "markdown",
   "id": "1616c14c-2e51-4b7b-a991-ad61ce6fb374",
   "metadata": {},
   "source": [
    "## Part 2"
   ]
  },
  {
   "cell_type": "code",
   "execution_count": 32,
   "id": "40f85b2b-e0cc-4efd-aaa9-d98e3a83d9ee",
   "metadata": {},
   "outputs": [
    {
     "name": "stdout",
     "output_type": "stream",
     "text": [
      "136182\n"
     ]
    }
   ],
   "source": [
    "L = 50\n",
    "corners = [(50, 0), (100, 0), (50, 50), (0, 100), (50, 100), (0, 150)]\n",
    "sides = [np.array([[j, i, 0, 1] for i in range(L) for j in range(L) if map_[r+i][c+j] == '.']).T for c, r in corners]\n",
    "T = np.array([\n",
    "    [[1, 0,  0,  0], [0,  1,  0,  0], [0, 0,  1,  0]],\n",
    "    [[0, 0, -1, 50], [0,  1,  0,  0], [1, 0,  0,  1]],\n",
    "    [[1, 0,  0,  0], [0,  0, -1, 50], [0, 1,  0,  1]],\n",
    "    [[0, 0,  1, -1], [0, -1,  0, 49], [1, 0,  0,  1]],\n",
    "    [[1, 0,  0,  0], [0, -1,  0, 49], [0, 0, -1, 51]],\n",
    "    [[0, 1,  0,  0], [0,  0,  1, -1], [1, 0,  0,  1]]\n",
    "])\n",
    "sides = [A@x for A, x in zip(T, sides)]\n",
    "tiles = {(x, y, z) for x, y, z in np.concatenate(sides, axis=1).T}\n",
    "\n",
    "def solve(tiles, path):\n",
    "    p = np.array([0, 0, 0])\n",
    "    d = np.array([1, 0, 0])\n",
    "    n = np.array([0, 0, -1])\n",
    "    trail = [p.copy()]\n",
    "    \n",
    "    while path:\n",
    "        for _ in range(path.pop()):\n",
    "            if tuple(p + d) in tiles:\n",
    "                p += d\n",
    "            elif tuple(p + d - n) in tiles:\n",
    "                trail.append(p.copy())\n",
    "                p += d - n\n",
    "                trail.append(p.copy())\n",
    "                d, n = -n, d\n",
    "            else:\n",
    "                break\n",
    "        trail.append(p.copy())\n",
    "        \n",
    "        if not path:\n",
    "            break\n",
    "            \n",
    "        if path.pop() == -1:\n",
    "            d = R.from_rotvec(np.pi/2 * n).apply(d)\n",
    "        else:\n",
    "            d = R.from_rotvec(-np.pi/2 * n).apply(d)\n",
    "        d = np.around(d).astype(int)\n",
    "    \n",
    "    side = [(0, 0, -1), (1, 0, 0), (0, 1, 0), (-1, 0, 0), (0, 0, 1), (0, -1, 0)].index(tuple(n))\n",
    "    facing = [\n",
    "        [(1, 0, 0), (0,  1, 0), (-1, 0,  0), ( 0, -1,  0)],\n",
    "        [(0, 0, 1), (0,  1, 0), ( 0, 0, -1), ( 0,  0, -1)],\n",
    "        [(1, 0, 0), (0,  0, 1), (-1, 0,  0), ( 0,  0, -1)],\n",
    "        [(0, 0, 1), (0, -1, 0), ( 0, 0, -1), ( 0,  1,  0)],\n",
    "        [(1, 0, 0), (0, -1, 0), (-1, 0,  0), ( 0,  1,  0)],\n",
    "        [(0, 0, 1), (1,  0, 0), ( 0, 0, -1), (-1,  0,  0)]\n",
    "    ][side].index(tuple(d))\n",
    "    T = np.array([\n",
    "        [[1, 0,  0,  0], [0,  1,  0,  0], [0, 0,  1,  0]],\n",
    "        [[0, 0, -1, 50], [0,  1,  0,  0], [1, 0,  0,  1]],\n",
    "        [[1, 0,  0,  0], [0,  0, -1, 50], [0, 1,  0,  1]],\n",
    "        [[0, 0,  1, -1], [0, -1,  0, 49], [1, 0,  0,  1]],\n",
    "        [[1, 0,  0,  0], [0, -1,  0, 49], [0, 0, -1, 51]],\n",
    "        [[0, 1,  0,  0], [0,  0,  1, -1], [1, 0,  0,  1]]\n",
    "    ])[side]\n",
    "    t = np.array([(50, 0), (100, 0), (50, 50), (0, 100), (50, 100), (0, 150)])[side]\n",
    "    \n",
    "    c, r = (np.linalg.solve(np.insert(T, 3, [0, 0, 0, 1], axis=0), np.insert(p, 3, 1))[:2] + t + 1).astype(int)\n",
    "    return 1000 * r + 4 * c + facing\n",
    "\n",
    "print(solve(tiles, path.copy()))"
   ]
  },
  {
   "cell_type": "markdown",
   "id": "e91afc9e-7f74-4224-b6fa-96df0d03097b",
   "metadata": {
    "tags": []
   },
   "source": [
    "# Day 23"
   ]
  },
  {
   "cell_type": "markdown",
   "id": "7a490ef1-6f42-4e3d-a1c2-f3c0ea1d1ea8",
   "metadata": {},
   "source": [
    "## Process input"
   ]
  },
  {
   "cell_type": "markdown",
   "id": "7362e633-3742-47c1-b2b5-305ff54cd552",
   "metadata": {},
   "source": [
    "## Part 1"
   ]
  },
  {
   "cell_type": "markdown",
   "id": "cb087dfd-c5e3-4a75-9d29-8d551c7afde1",
   "metadata": {},
   "source": [
    "## Part 2"
   ]
  },
  {
   "cell_type": "markdown",
   "id": "d68b8428-c83c-4fc3-bb92-7f8ba37a461b",
   "metadata": {
    "tags": []
   },
   "source": [
    "# Day X"
   ]
  },
  {
   "cell_type": "markdown",
   "id": "94503743-de09-4cc5-b69b-1487a044b8de",
   "metadata": {},
   "source": [
    "## Process input"
   ]
  },
  {
   "cell_type": "markdown",
   "id": "ceab2fc5-9f25-4e72-966c-ea99fe35e76b",
   "metadata": {},
   "source": [
    "## Part 1"
   ]
  },
  {
   "cell_type": "markdown",
   "id": "1ac871f4-8bd8-4044-bcaf-f0911f5cca0c",
   "metadata": {},
   "source": [
    "## Part 2"
   ]
  },
  {
   "cell_type": "markdown",
   "id": "41a85bd2",
   "metadata": {},
   "source": [
    "# Performance analysis"
   ]
  },
  {
   "cell_type": "code",
   "execution_count": null,
   "id": "51896678",
   "metadata": {},
   "outputs": [],
   "source": [
    "t = np.array(stopwatch.stop(add_split=False), dtype=int)\n",
    "plt.plot(np.arange(len(t)), t / 1e9)\n",
    "plt.xlabel('stars')\n",
    "plt.ylabel('time (s)')\n",
    "plt.grid('on')\n",
    "plt.show()"
   ]
  }
 ],
 "metadata": {
  "kernelspec": {
   "display_name": "Python 3 (ipykernel)",
   "language": "python",
   "name": "python3"
  },
  "language_info": {
   "codemirror_mode": {
    "name": "ipython",
    "version": 3
   },
   "file_extension": ".py",
   "mimetype": "text/x-python",
   "name": "python",
   "nbconvert_exporter": "python",
   "pygments_lexer": "ipython3",
   "version": "3.10.8"
  }
 },
 "nbformat": 4,
 "nbformat_minor": 5
}
