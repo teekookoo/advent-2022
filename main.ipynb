{
 "cells": [
  {
   "cell_type": "markdown",
   "id": "6105cb79",
   "metadata": {
    "jp-MarkdownHeadingCollapsed": true,
    "tags": []
   },
   "source": [
    "# Setup"
   ]
  },
  {
   "cell_type": "markdown",
   "id": "8a311e04",
   "metadata": {
    "tags": []
   },
   "source": [
    "## Imports"
   ]
  },
  {
   "cell_type": "code",
   "execution_count": 1,
   "id": "a6d156cc",
   "metadata": {},
   "outputs": [],
   "source": [
    "import numpy as np\n",
    "import matplotlib.pyplot as plt\n",
    "from dataclasses import dataclass\n",
    "from __future__ import annotations\n",
    "\n",
    "from utils import Stopwatch, chunksof"
   ]
  },
  {
   "cell_type": "markdown",
   "id": "61cf5e66",
   "metadata": {},
   "source": [
    "## Timing"
   ]
  },
  {
   "cell_type": "code",
   "execution_count": 2,
   "id": "366727a5",
   "metadata": {},
   "outputs": [],
   "source": [
    "stopwatch = Stopwatch()\n",
    "stopwatch.start()"
   ]
  },
  {
   "cell_type": "markdown",
   "id": "d7194ecd",
   "metadata": {
    "jp-MarkdownHeadingCollapsed": true,
    "tags": []
   },
   "source": [
    "# Day 1"
   ]
  },
  {
   "cell_type": "markdown",
   "id": "6312997c",
   "metadata": {},
   "source": [
    "## Process input"
   ]
  },
  {
   "cell_type": "code",
   "execution_count": 3,
   "id": "f9893cc8",
   "metadata": {},
   "outputs": [],
   "source": [
    "with open('inputs/01') as f:\n",
    "    chunks = f.read().rstrip().split('\\n\\n')\n",
    "cals = [sum(int(n) for n in c.splitlines()) for c in chunks]"
   ]
  },
  {
   "cell_type": "markdown",
   "id": "09c7187a",
   "metadata": {},
   "source": [
    "## Part 1"
   ]
  },
  {
   "cell_type": "code",
   "execution_count": 4,
   "id": "dc249c23",
   "metadata": {},
   "outputs": [
    {
     "name": "stdout",
     "output_type": "stream",
     "text": [
      "74394\n"
     ]
    }
   ],
   "source": [
    "print(max(cals))\n",
    "stopwatch.add_split()"
   ]
  },
  {
   "cell_type": "markdown",
   "id": "8ee18d20",
   "metadata": {
    "tags": []
   },
   "source": [
    "## Part 2"
   ]
  },
  {
   "cell_type": "code",
   "execution_count": 5,
   "id": "1bbad0a3",
   "metadata": {},
   "outputs": [
    {
     "name": "stdout",
     "output_type": "stream",
     "text": [
      "212836\n"
     ]
    }
   ],
   "source": [
    "print(sum(sorted(cals)[-3:]))\n",
    "stopwatch.add_split()"
   ]
  },
  {
   "cell_type": "markdown",
   "id": "a07947ff",
   "metadata": {
    "jp-MarkdownHeadingCollapsed": true,
    "tags": []
   },
   "source": [
    "# Day 2"
   ]
  },
  {
   "cell_type": "markdown",
   "id": "069be05f",
   "metadata": {},
   "source": [
    "## Process input"
   ]
  },
  {
   "cell_type": "code",
   "execution_count": 6,
   "id": "3dec1409",
   "metadata": {},
   "outputs": [],
   "source": [
    "mapping = {\n",
    "    'A': 0, 'B': 1, 'C': 2,\n",
    "    'X': 0, 'Y': 1, 'Z': 2,\n",
    "}\n",
    "\n",
    "with open('inputs/02') as f:\n",
    "    rounds = [(mapping[a], mapping[b]) for a, b in (line.strip().split() for line in f)]"
   ]
  },
  {
   "cell_type": "markdown",
   "id": "a951f7ac",
   "metadata": {},
   "source": [
    "## Part 1"
   ]
  },
  {
   "cell_type": "code",
   "execution_count": 7,
   "id": "bb0a142c",
   "metadata": {},
   "outputs": [
    {
     "name": "stdout",
     "output_type": "stream",
     "text": [
      "9241\n"
     ]
    }
   ],
   "source": [
    "succ = lambda a: (a + 1) % 3\n",
    "pred = lambda a: (a - 1) % 3\n",
    "    \n",
    "def score_round(a, b):\n",
    "    if a == b:\n",
    "        return b + 4\n",
    "    elif b == succ(a):\n",
    "        return b + 7\n",
    "    else:\n",
    "        return b + 1\n",
    "\n",
    "print(sum(score_round(*x) for x in rounds))\n",
    "stopwatch.add_split()"
   ]
  },
  {
   "cell_type": "markdown",
   "id": "20219f8c",
   "metadata": {},
   "source": [
    "## Part 2"
   ]
  },
  {
   "cell_type": "code",
   "execution_count": 8,
   "id": "6ca89084",
   "metadata": {},
   "outputs": [
    {
     "name": "stdout",
     "output_type": "stream",
     "text": [
      "14610\n"
     ]
    }
   ],
   "source": [
    "def score_round(a, b):\n",
    "    if b == 0:\n",
    "        return pred(a) + 1\n",
    "    elif b == 1:\n",
    "        return a + 4\n",
    "    else:\n",
    "        return succ(a) + 7\n",
    "\n",
    "print(sum(score_round(*x) for x in rounds))\n",
    "stopwatch.add_split()"
   ]
  },
  {
   "cell_type": "markdown",
   "id": "f69043db",
   "metadata": {
    "jp-MarkdownHeadingCollapsed": true,
    "tags": []
   },
   "source": [
    "# Day 3"
   ]
  },
  {
   "cell_type": "markdown",
   "id": "ab20eec4",
   "metadata": {
    "tags": []
   },
   "source": [
    "## Process input"
   ]
  },
  {
   "cell_type": "code",
   "execution_count": 9,
   "id": "711dc1fb",
   "metadata": {},
   "outputs": [],
   "source": [
    "def to_sack(contents):\n",
    "    n = len(contents)\n",
    "    assert n % 2 == 0\n",
    "    i = n//2\n",
    "    return set(contents[:i]), set(contents[i:])\n",
    "\n",
    "with open('inputs/03') as f:\n",
    "    sacks = [to_sack(line.rstrip()) for line in f]"
   ]
  },
  {
   "cell_type": "markdown",
   "id": "2b7bd63f",
   "metadata": {},
   "source": [
    "## Part 1"
   ]
  },
  {
   "cell_type": "code",
   "execution_count": 10,
   "id": "36274e7c-5008-4d74-84c2-5df2d2a3a0d1",
   "metadata": {},
   "outputs": [
    {
     "name": "stdout",
     "output_type": "stream",
     "text": [
      "7824\n"
     ]
    }
   ],
   "source": [
    "def priority(item):\n",
    "    if 'a' <= item <= 'z':\n",
    "        return ord(item) - ord('a') + 1\n",
    "    else:\n",
    "        return ord(item) - ord('A') + 27\n",
    "\n",
    "print(sum(priority(*(a & b)) for a, b in sacks))\n",
    "stopwatch.add_split()"
   ]
  },
  {
   "cell_type": "markdown",
   "id": "1971c959",
   "metadata": {},
   "source": [
    "## Part 2"
   ]
  },
  {
   "cell_type": "code",
   "execution_count": 11,
   "id": "3600eeb9",
   "metadata": {},
   "outputs": [
    {
     "name": "stdout",
     "output_type": "stream",
     "text": [
      "2798\n"
     ]
    }
   ],
   "source": [
    "merged = (a | b for a, b in sacks)\n",
    "groups = chunksof(3, merged)\n",
    "badges = (a & b & c for a, b, c in groups)\n",
    "print(sum(priority(*b) for b in badges))\n",
    "stopwatch.add_split()"
   ]
  },
  {
   "cell_type": "markdown",
   "id": "33f54391",
   "metadata": {
    "jp-MarkdownHeadingCollapsed": true,
    "tags": []
   },
   "source": [
    "# Day 4"
   ]
  },
  {
   "cell_type": "markdown",
   "id": "d0b00161",
   "metadata": {},
   "source": [
    "## Process input"
   ]
  },
  {
   "cell_type": "code",
   "execution_count": 12,
   "id": "234e29a7",
   "metadata": {},
   "outputs": [],
   "source": [
    "def parse_range(r):\n",
    "    start, end = r.split('-')\n",
    "    return int(start), int(end)\n",
    "\n",
    "def parse_row(r):\n",
    "    a, b = r.rstrip().split(',')\n",
    "    return parse_range(a), parse_range(b)\n",
    "\n",
    "with open('inputs/04') as f:\n",
    "    pairs = [parse_row(r) for r in f]"
   ]
  },
  {
   "cell_type": "markdown",
   "id": "0ed48b22",
   "metadata": {},
   "source": [
    "## Part 1"
   ]
  },
  {
   "cell_type": "code",
   "execution_count": 13,
   "id": "a7d5b75b-fd94-4c41-91cd-3008993fdc49",
   "metadata": {},
   "outputs": [
    {
     "name": "stdout",
     "output_type": "stream",
     "text": [
      "498\n"
     ]
    }
   ],
   "source": [
    "def intersect(a, b):\n",
    "    (x, y) = a\n",
    "    (z, w) = b\n",
    "    overlap = x <= w and y >= z\n",
    "    if overlap:\n",
    "        return (max(x, z), min(y, w))\n",
    "    else:\n",
    "        return None\n",
    "\n",
    "def fully_contained(a, b):\n",
    "    x = intersect(a, b)\n",
    "    return a == x or b == x\n",
    "\n",
    "print(sum(1 for a, b in pairs if fully_contained(a, b)))\n",
    "stopwatch.add_split()"
   ]
  },
  {
   "cell_type": "markdown",
   "id": "b3da16aa",
   "metadata": {},
   "source": [
    "## Part 2"
   ]
  },
  {
   "cell_type": "code",
   "execution_count": 14,
   "id": "54c11dce",
   "metadata": {},
   "outputs": [
    {
     "name": "stdout",
     "output_type": "stream",
     "text": [
      "859\n"
     ]
    }
   ],
   "source": [
    "print(sum(1 for a, b in pairs if intersect(a, b) != None))\n",
    "stopwatch.add_split()"
   ]
  },
  {
   "cell_type": "markdown",
   "id": "3d8dce7d",
   "metadata": {
    "jp-MarkdownHeadingCollapsed": true,
    "tags": []
   },
   "source": [
    "# Day 5"
   ]
  },
  {
   "cell_type": "markdown",
   "id": "b3e2186a",
   "metadata": {},
   "source": [
    "## Process input"
   ]
  },
  {
   "cell_type": "code",
   "execution_count": 15,
   "id": "3326fed7",
   "metadata": {},
   "outputs": [],
   "source": [
    "def parse_container_line(s):\n",
    "    containers = []\n",
    "    for i, j in enumerate(range(1, len(s), 4)):\n",
    "        if s[j] == ' ':\n",
    "            continue\n",
    "        containers.append((i, s[j]))\n",
    "    return containers\n",
    "\n",
    "def parse_command_line(s):\n",
    "    parts = s.split()\n",
    "    return int(parts[1]), int(parts[3]) - 1, int(parts[5]) - 1\n",
    "\n",
    "with open('inputs/05') as f:\n",
    "    container_string, command_string = f.read().rstrip().split('\\n\\n')\n",
    "\n",
    "container_lines = container_string.split('\\n')\n",
    "command_lines = command_string.split('\\n')\n",
    "\n",
    "num_stacks = len(container_lines[-1].strip().split())\n",
    "stacks = [[] for _ in range(num_stacks)]\n",
    "for line in reversed(container_lines[:-1]):\n",
    "    for stack, container in parse_container_line(line):\n",
    "        stacks[stack].append(container)\n",
    "\n",
    "commands = [parse_command_line(l) for l in command_lines]"
   ]
  },
  {
   "cell_type": "markdown",
   "id": "52f85392",
   "metadata": {},
   "source": [
    "## Part 1"
   ]
  },
  {
   "cell_type": "code",
   "execution_count": 16,
   "id": "9830d1e8",
   "metadata": {},
   "outputs": [
    {
     "name": "stdout",
     "output_type": "stream",
     "text": [
      "TPGVQPFDH\n"
     ]
    }
   ],
   "source": [
    "def apply(command, stacks):\n",
    "    num, src, dst = command\n",
    "    for _ in range(num):\n",
    "        stacks[dst].append(stacks[src].pop())\n",
    "\n",
    "stacks_copy = [s.copy() for s in stacks]\n",
    "for c in commands:\n",
    "    apply(c, stacks_copy)\n",
    "    \n",
    "print(''.join(s[-1] for s in stacks_copy))\n",
    "stopwatch.add_split()"
   ]
  },
  {
   "cell_type": "markdown",
   "id": "ae20a055",
   "metadata": {},
   "source": [
    "## Part 2"
   ]
  },
  {
   "cell_type": "code",
   "execution_count": 17,
   "id": "9b6ea002",
   "metadata": {},
   "outputs": [
    {
     "name": "stdout",
     "output_type": "stream",
     "text": [
      "DMRDFRHHH\n"
     ]
    }
   ],
   "source": [
    "def apply(command, stacks):\n",
    "    num, src, dst = command\n",
    "    stacks[dst] += stacks[src][-num:]\n",
    "    del stacks[src][-num:]\n",
    "\n",
    "stacks_copy = [s.copy() for s in stacks]\n",
    "for c in commands:\n",
    "    apply(c, stacks_copy)\n",
    "    \n",
    "print(''.join(s[-1] for s in stacks_copy))\n",
    "stopwatch.add_split()"
   ]
  },
  {
   "cell_type": "markdown",
   "id": "8692bf0b",
   "metadata": {
    "jp-MarkdownHeadingCollapsed": true,
    "tags": []
   },
   "source": [
    "# Day 6"
   ]
  },
  {
   "cell_type": "markdown",
   "id": "54cc1f8a",
   "metadata": {},
   "source": [
    "## Process input"
   ]
  },
  {
   "cell_type": "code",
   "execution_count": 18,
   "id": "a49b3c9f",
   "metadata": {},
   "outputs": [],
   "source": [
    "with open('inputs/06') as f:\n",
    "    signal = f.read().rstrip()"
   ]
  },
  {
   "cell_type": "markdown",
   "id": "f5b82b13",
   "metadata": {},
   "source": [
    "## Part 1"
   ]
  },
  {
   "cell_type": "code",
   "execution_count": 19,
   "id": "4aea71c9",
   "metadata": {},
   "outputs": [
    {
     "name": "stdout",
     "output_type": "stream",
     "text": [
      "1794\n"
     ]
    }
   ],
   "source": [
    "def marker_index(num_chars, signal):\n",
    "    for i in range(0, len(signal)-num_chars):\n",
    "        j = i + num_chars\n",
    "        if len(set(signal[i:j])) == num_chars:\n",
    "            return j\n",
    "        \n",
    "    assert False, \"A signal start was not found\"\n",
    "\n",
    "print(marker_index(4, signal))\n",
    "stopwatch.add_split()"
   ]
  },
  {
   "cell_type": "markdown",
   "id": "b3076247",
   "metadata": {},
   "source": [
    "## Part 2"
   ]
  },
  {
   "cell_type": "code",
   "execution_count": 20,
   "id": "191cc9bb",
   "metadata": {},
   "outputs": [
    {
     "name": "stdout",
     "output_type": "stream",
     "text": [
      "2851\n"
     ]
    }
   ],
   "source": [
    "print(marker_index(14, signal))\n",
    "stopwatch.add_split()"
   ]
  },
  {
   "cell_type": "markdown",
   "id": "f5d5b2de",
   "metadata": {
    "jp-MarkdownHeadingCollapsed": true,
    "tags": []
   },
   "source": [
    "# Day 7"
   ]
  },
  {
   "cell_type": "markdown",
   "id": "a3c54059",
   "metadata": {},
   "source": [
    "## Process input"
   ]
  },
  {
   "cell_type": "code",
   "execution_count": 21,
   "id": "1ad26015",
   "metadata": {},
   "outputs": [],
   "source": [
    "@dataclass\n",
    "class Directory:\n",
    "    name: str\n",
    "    contents: dict[str, Node]\n",
    "    \n",
    "    def __eq__(self, other):\n",
    "        return self.name == other.name\n",
    "\n",
    "@dataclass\n",
    "class File:\n",
    "    name: str\n",
    "    size: int\n",
    "    \n",
    "    def __eq__(self, other):\n",
    "        return self.name == other.name\n",
    "\n",
    "Node = Directory | File\n",
    "\n",
    "def parse_node(s):\n",
    "    match s.split():\n",
    "        case [\"dir\", name]:\n",
    "            return Directory(name, {})\n",
    "        case [size, name]:\n",
    "            return File(name, int(size))\n",
    "\n",
    "with open('inputs/07') as f:\n",
    "    blocks = [b.strip().split('\\n') for b in f.read().split('$')[1:]]\n",
    "\n",
    "root = Directory('root', {})\n",
    "current = root\n",
    "history = []\n",
    "for cmd, *output in blocks:\n",
    "    match cmd.split():\n",
    "        case ['cd', '/']:\n",
    "            current = root\n",
    "            history = []\n",
    "        case ['cd', '..']:\n",
    "            current = history.pop()\n",
    "        case ['cd', dst]:\n",
    "            history.append(current)\n",
    "            current = current.contents[dst]\n",
    "        case ['ls']:\n",
    "            nodes = (parse_node(s) for s in output)\n",
    "            current.contents = {n.name: n for n in nodes}"
   ]
  },
  {
   "cell_type": "markdown",
   "id": "d07a69fd",
   "metadata": {},
   "source": [
    "## Part 1"
   ]
  },
  {
   "cell_type": "code",
   "execution_count": 22,
   "id": "4cedb931",
   "metadata": {},
   "outputs": [
    {
     "name": "stdout",
     "output_type": "stream",
     "text": [
      "1453349\n"
     ]
    }
   ],
   "source": [
    "def dirsizes(directory):\n",
    "    self_size = 0\n",
    "    sizes = []\n",
    "    for node in directory.contents.values():\n",
    "        match node:\n",
    "            case File(_, sz):\n",
    "                self_size += sz\n",
    "            case Directory(_, _):\n",
    "                sizes += dirsizes(node)\n",
    "                self_size += sizes[-1]\n",
    "    sizes.append(self_size)\n",
    "    return sizes\n",
    "\n",
    "ds = dirsizes(root)\n",
    "print(sum(sz for sz in ds if sz <= 100_000))\n",
    "stopwatch.add_split()"
   ]
  },
  {
   "cell_type": "markdown",
   "id": "ba01534c",
   "metadata": {},
   "source": [
    "## Part 2"
   ]
  },
  {
   "cell_type": "code",
   "execution_count": 23,
   "id": "ae256e49",
   "metadata": {},
   "outputs": [
    {
     "name": "stdout",
     "output_type": "stream",
     "text": [
      "2948823\n"
     ]
    }
   ],
   "source": [
    "min_del_size = 30_000_000 - (70_000_000 - ds[-1])\n",
    "\n",
    "print(min(sz for sz in ds if sz >= min_del_size))\n",
    "stopwatch.add_split()"
   ]
  },
  {
   "cell_type": "markdown",
   "id": "cd7f3063",
   "metadata": {
    "jp-MarkdownHeadingCollapsed": true,
    "tags": []
   },
   "source": [
    "# Day 8"
   ]
  },
  {
   "cell_type": "markdown",
   "id": "c660287c",
   "metadata": {},
   "source": [
    "## Process input"
   ]
  },
  {
   "cell_type": "code",
   "execution_count": 24,
   "id": "b5464dc3",
   "metadata": {},
   "outputs": [],
   "source": [
    "with open('inputs/08') as f:\n",
    "    trees = np.array([[int(c) for c in row.rstrip()] for row in f], dtype=int)"
   ]
  },
  {
   "cell_type": "markdown",
   "id": "d22d89d5",
   "metadata": {},
   "source": [
    "## Part 1"
   ]
  },
  {
   "cell_type": "code",
   "execution_count": 25,
   "id": "a46e2293",
   "metadata": {},
   "outputs": [
    {
     "name": "stdout",
     "output_type": "stream",
     "text": [
      "1679\n"
     ]
    }
   ],
   "source": [
    "def visible(trees):\n",
    "    (m, n) = trees.shape\n",
    "    vis = np.ones_like(trees, dtype=bool)\n",
    "    rows = np.s_[1:m-1]\n",
    "    cols = np.s_[1:n-1]\n",
    "    vis[rows, cols] = False\n",
    "    \n",
    "    # horizontal\n",
    "    for j in range(1, n-1):\n",
    "        h = trees[rows, j]\n",
    "        vis[rows, j] |= np.all(trees[rows,    :j].T < h, axis=0)\n",
    "        vis[rows, j] |= np.all(trees[rows, j+1: ].T < h, axis=0)\n",
    "    \n",
    "    # vertical\n",
    "    for i in range(1, m-1):\n",
    "        h = trees[i, cols]\n",
    "        vis[i, cols] |= np.all(trees[   :i, cols] < h, axis=0)\n",
    "        vis[i, cols] |= np.all(trees[i+1: , cols] < h, axis=0)\n",
    "    \n",
    "    return vis\n",
    "    \n",
    "\n",
    "print(visible(trees).sum())\n",
    "stopwatch.add_split()"
   ]
  },
  {
   "cell_type": "markdown",
   "id": "617c6e4b",
   "metadata": {},
   "source": [
    "## Part 2"
   ]
  },
  {
   "cell_type": "code",
   "execution_count": 26,
   "id": "3296febf",
   "metadata": {},
   "outputs": [
    {
     "name": "stdout",
     "output_type": "stream",
     "text": [
      "536625\n"
     ]
    }
   ],
   "source": [
    "def num_vis(trees, h):\n",
    "    vis = np.multiply.accumulate(trees < h, dtype=bool, axis=0)\n",
    "    n = np.sum(vis, axis=0)\n",
    "    n[np.logical_not(np.all(vis, axis=0))] += 1\n",
    "    return n\n",
    "\n",
    "def scenic_score(trees):\n",
    "    (m, n) = trees.shape\n",
    "    score = np.zeros_like(trees)\n",
    "    rows = np.s_[1:m-1]\n",
    "    cols = np.s_[1:n-1]\n",
    "    score[rows, cols] = 1\n",
    "    \n",
    "    # horizontal\n",
    "    for j in range(1, n-1):\n",
    "        h = trees[rows, j]\n",
    "        score[rows, j] *= num_vis(trees[rows, j-1::-1].T, h)\n",
    "        score[rows, j] *= num_vis(trees[rows, j+1:   ].T, h)\n",
    "    \n",
    "    # vertical\n",
    "    for i in range(1, m-1):\n",
    "        h = trees[i, cols]\n",
    "        score[i, cols] *= num_vis(trees[i-1::-1, cols], h)\n",
    "        score[i, cols] *= num_vis(trees[i+1:   , cols], h)\n",
    "    \n",
    "    return score\n",
    "\n",
    "print(np.amax(scenic_score(trees)))\n",
    "stopwatch.add_split()"
   ]
  },
  {
   "cell_type": "markdown",
   "id": "751a1b4f",
   "metadata": {
    "jp-MarkdownHeadingCollapsed": true,
    "tags": []
   },
   "source": [
    "# Day 9"
   ]
  },
  {
   "cell_type": "markdown",
   "id": "cc6395f7",
   "metadata": {},
   "source": [
    "## Process input"
   ]
  },
  {
   "cell_type": "code",
   "execution_count": 27,
   "id": "496c3926",
   "metadata": {},
   "outputs": [],
   "source": [
    "def parse_motions(f):\n",
    "    for l in f:\n",
    "        d, n = l.rstrip().split()\n",
    "        if d == 'U':\n",
    "            d = [0, 1]\n",
    "        elif d == 'D':\n",
    "            d = [0, -1]\n",
    "        elif d == 'L':\n",
    "            d = [-1, 0]\n",
    "        else:\n",
    "            d = [1, 0]\n",
    "        \n",
    "        for _ in range(int(n)):\n",
    "            yield d\n",
    "        \n",
    "\n",
    "with open('inputs/09') as f:\n",
    "    motions = np.array(list(parse_motions(f)), dtype=int)"
   ]
  },
  {
   "cell_type": "markdown",
   "id": "d94df6c6",
   "metadata": {},
   "source": [
    "## Part 1"
   ]
  },
  {
   "cell_type": "code",
   "execution_count": 28,
   "id": "61bff6b6",
   "metadata": {},
   "outputs": [
    {
     "name": "stdout",
     "output_type": "stream",
     "text": [
      "6464\n"
     ]
    }
   ],
   "source": [
    "def dt(h, t):\n",
    "    distance = h - t\n",
    "    dt = np.zeros(2, dtype=int)\n",
    "    if np.amax(np.abs(distance)) <= 1:\n",
    "        return dt\n",
    "    else:\n",
    "        return np.sign(distance)\n",
    "\n",
    "def simulate(motions, num_knots):\n",
    "    num_steps = len(motions) + 1\n",
    "    knots = np.zeros((num_knots, num_steps, 2))\n",
    "    knots[0] = np.add.accumulate(np.insert(motions, 0, 0, axis=0))\n",
    "    \n",
    "    for knot in range(1, num_knots):\n",
    "        for step in range(1, num_steps):\n",
    "            h = knots[knot-1, step  , :]\n",
    "            t = knots[knot  , step-1, :]\n",
    "            knots[knot, step, :] = t + dt(h, t)\n",
    "    \n",
    "    return knots\n",
    "\n",
    "knots = simulate(motions, 2)\n",
    "print(len({(x, y) for x, y in knots[1]}))\n",
    "stopwatch.add_split()"
   ]
  },
  {
   "cell_type": "markdown",
   "id": "f5c8f35f",
   "metadata": {},
   "source": [
    "## Part 2"
   ]
  },
  {
   "cell_type": "code",
   "execution_count": 29,
   "id": "92b28e1c",
   "metadata": {},
   "outputs": [
    {
     "name": "stdout",
     "output_type": "stream",
     "text": [
      "2604\n"
     ]
    }
   ],
   "source": [
    "knots = simulate(motions, 10)\n",
    "print(len({(x, y) for x, y in knots[-1]}))\n",
    "stopwatch.add_split()"
   ]
  },
  {
   "cell_type": "markdown",
   "id": "4fbeddd1",
   "metadata": {
    "jp-MarkdownHeadingCollapsed": true,
    "tags": []
   },
   "source": [
    "# Day 10"
   ]
  },
  {
   "cell_type": "markdown",
   "id": "90fd1b79",
   "metadata": {},
   "source": [
    "## Process input"
   ]
  },
  {
   "cell_type": "code",
   "execution_count": 30,
   "id": "ce07c462",
   "metadata": {},
   "outputs": [],
   "source": [
    "def run(instructions):\n",
    "    x = 1\n",
    "    for instruction in instructions:\n",
    "        match instruction.split():\n",
    "            case ['addx', num]:\n",
    "                yield x\n",
    "                yield x\n",
    "                x += int(num)\n",
    "            case ['noop']:\n",
    "                yield x\n",
    "\n",
    "with open('inputs/10') as f:\n",
    "    x = np.fromiter(run(f.readlines()), dtype=int)"
   ]
  },
  {
   "cell_type": "markdown",
   "id": "5534c983",
   "metadata": {},
   "source": [
    "## Part 1"
   ]
  },
  {
   "cell_type": "code",
   "execution_count": 31,
   "id": "362b878d",
   "metadata": {},
   "outputs": [
    {
     "name": "stdout",
     "output_type": "stream",
     "text": [
      "16020\n"
     ]
    }
   ],
   "source": [
    "cycle = np.arange(1, len(x)+1)\n",
    "idx = np.s_[19:221:40]\n",
    "print(np.sum(x[idx]*cycle[idx]))\n",
    "stopwatch.add_split()"
   ]
  },
  {
   "cell_type": "markdown",
   "id": "70d651b2",
   "metadata": {},
   "source": [
    "## Part 2"
   ]
  },
  {
   "cell_type": "code",
   "execution_count": 32,
   "id": "c0e3589c",
   "metadata": {},
   "outputs": [
    {
     "data": {
      "image/png": "[encoded data removed]",
      "text/plain": [
       "<Figure size 640x480 with 1 Axes>"
      ]
     },
     "metadata": {},
     "output_type": "display_data"
    }
   ],
   "source": [
    "img = np.ones((6, 40))\n",
    "for i in range(6):\n",
    "    for j in range(40):\n",
    "        spritepos = x[40*i + j]\n",
    "        if spritepos - 1 <= j <= spritepos + 1:\n",
    "            img[i, j] = 0\n",
    "\n",
    "plt.imshow(img, cmap='gray')\n",
    "plt.show()\n",
    "\n",
    "stopwatch.add_split()"
   ]
  },
  {
   "cell_type": "markdown",
   "id": "bb863c22",
   "metadata": {
    "jp-MarkdownHeadingCollapsed": true,
    "tags": []
   },
   "source": [
    "# Day 11"
   ]
  },
  {
   "cell_type": "markdown",
   "id": "222651b9",
   "metadata": {},
   "source": [
    "## Process input"
   ]
  },
  {
   "cell_type": "code",
   "execution_count": 33,
   "id": "b213a39d-0c40-42fd-a5f2-bf8501f7a4b8",
   "metadata": {
    "tags": []
   },
   "outputs": [],
   "source": [
    "class Monkey:\n",
    "    def __init__(self, s):\n",
    "        [idline, itemline, opline, testline, trueline, falseline] = [\n",
    "            l.strip(' :') for l in s.splitlines()\n",
    "        ]\n",
    "        self.counter = 0\n",
    "        \n",
    "        match idline.split():\n",
    "            case ['Monkey', num]:\n",
    "                self.id = int(num)\n",
    "            case _:\n",
    "                raise ValueError(f'Failed to match {idline}')\n",
    "                \n",
    "        match itemline.split():\n",
    "            case ['Starting', 'items:', *items]:\n",
    "                self.initial_items = [int(it.rstrip(',')) for it in items]\n",
    "                self.items = self.initial_items.copy()\n",
    "            case _:\n",
    "                raise ValueError(f'Failed to match {itemline}')\n",
    "                \n",
    "        match opline.split():\n",
    "            case ['Operation:', 'new', '=', 'old', '+', 'old']:\n",
    "                self.op = lambda x: x + x\n",
    "            case ['Operation:', 'new', '=', 'old', '*', 'old']:\n",
    "                self.op = lambda x: x * x\n",
    "            case ['Operation:', 'new', '=', 'old', '+', y]:\n",
    "                operand = int(y)\n",
    "                self.op = lambda x: x + operand\n",
    "            case ['Operation:', 'new', '=', 'old', '*', y]:\n",
    "                operand = int(y)\n",
    "                self.op = lambda x: x * operand\n",
    "            case _:\n",
    "                raise ValueError(f'Failed to match {opline}')\n",
    "                \n",
    "        match testline.split():\n",
    "            case ['Test:', 'divisible', 'by', y]:\n",
    "                divisor = int(y)\n",
    "                self.div = divisor\n",
    "                self.test = lambda x: x % divisor == 0\n",
    "            case _:\n",
    "                raise ValueError(f'Failed to match {testline}')\n",
    "                \n",
    "        match trueline.split():\n",
    "            case ['If', 'true:', 'throw', 'to', 'monkey', y]:\n",
    "                recipient_t = int(y)\n",
    "                self.true = recipient_t\n",
    "            case _:\n",
    "                raise ValueError(f'Failed to match {trueline}')\n",
    "                \n",
    "        match falseline.split():\n",
    "            case ['If', 'false:', 'throw', 'to', 'monkey', y]:\n",
    "                recipient_f = int(y)\n",
    "                self.false = recipient_f\n",
    "            case _:\n",
    "                raise ValueError(f'Failed to match {falseline}')\n",
    "        \n",
    "    def do_turn(self, monkies):\n",
    "        for item in self.items:\n",
    "            self.counter += 1\n",
    "            item = self.op(item) // 3\n",
    "            if self.test(item):\n",
    "                monkies[self.true].items.append(item)\n",
    "            else:\n",
    "                monkies[self.false].items.append(item)\n",
    "        self.items = []\n",
    "    \n",
    "    def do_turn_2(self, monkies, lcm):\n",
    "        for item in self.items:\n",
    "            self.counter += 1\n",
    "            item = self.op(item) % lcm\n",
    "            if self.test(item):\n",
    "                monkies[self.true].items.append(item)\n",
    "            else:\n",
    "                monkies[self.false].items.append(item)\n",
    "        self.items = []\n",
    "    \n",
    "    def reset(self):\n",
    "        self.counter = 0\n",
    "        self.items = self.initial_items.copy()\n",
    "\n",
    "with open('inputs/11') as f:\n",
    "    monkies = [Monkey(s) for s in f.read().rstrip().split('\\n\\n')]"
   ]
  },
  {
   "cell_type": "markdown",
   "id": "9e7abe87",
   "metadata": {},
   "source": [
    "## Part 1"
   ]
  },
  {
   "cell_type": "code",
   "execution_count": 34,
   "id": "02e76698-846f-4247-abc6-4835f69bb0fa",
   "metadata": {},
   "outputs": [
    {
     "name": "stdout",
     "output_type": "stream",
     "text": [
      "54054\n"
     ]
    }
   ],
   "source": [
    "for _ in range(20):\n",
    "    for monkey in monkies:\n",
    "        monkey.do_turn(monkies)\n",
    "\n",
    "print(np.prod(np.sort([monkey.counter for monkey in monkies])[-2:]))\n",
    "\n",
    "stopwatch.add_split()"
   ]
  },
  {
   "cell_type": "markdown",
   "id": "40c1b4d8",
   "metadata": {},
   "source": [
    "## Part 2"
   ]
  },
  {
   "cell_type": "code",
   "execution_count": 35,
   "id": "fcee6416-2500-4c92-9798-45466df43bd2",
   "metadata": {},
   "outputs": [
    {
     "name": "stdout",
     "output_type": "stream",
     "text": [
      "14314925001\n"
     ]
    }
   ],
   "source": [
    "for m in monkies:\n",
    "    m.reset()\n",
    "\n",
    "lcm = np.lcm.reduce([m.div for m in monkies])\n",
    "\n",
    "for _ in range(10000):\n",
    "    for monkey in monkies:\n",
    "        monkey.do_turn_2(monkies, lcm)\n",
    "\n",
    "print(np.prod(np.sort([monkey.counter for monkey in monkies])[-2:]))\n",
    "\n",
    "stopwatch.add_split()"
   ]
  },
  {
   "cell_type": "markdown",
   "id": "6ba54974-3088-45ba-8ca0-c767c9cd1bf0",
   "metadata": {
    "jp-MarkdownHeadingCollapsed": true,
    "tags": []
   },
   "source": [
    "# Day X"
   ]
  },
  {
   "cell_type": "markdown",
   "id": "dd029954-628f-41cd-a215-22100461e4fe",
   "metadata": {},
   "source": [
    "## Process input"
   ]
  },
  {
   "cell_type": "markdown",
   "id": "65cf8378-8fc4-49b8-b032-810f14b38c6a",
   "metadata": {},
   "source": [
    "## Part 1"
   ]
  },
  {
   "cell_type": "markdown",
   "id": "4e459e85-b7b9-4e88-9ffd-1a0cf97e2289",
   "metadata": {},
   "source": [
    "## Part 2"
   ]
  },
  {
   "cell_type": "markdown",
   "id": "41a85bd2",
   "metadata": {},
   "source": [
    "# Performance analysis"
   ]
  },
  {
   "cell_type": "code",
   "execution_count": 36,
   "id": "51896678",
   "metadata": {},
   "outputs": [
    {
     "data": {
      "image/png": "[encoded data removed]",
      "text/plain": [
       "<Figure size 640x480 with 1 Axes>"
      ]
     },
     "metadata": {},
     "output_type": "display_data"
    }
   ],
   "source": [
    "t = np.array(stopwatch.stop(add_split=False), dtype=int)\n",
    "plt.plot(np.arange(len(t)), t / 1e9)\n",
    "plt.xlabel('stars')\n",
    "plt.ylabel('time (s)')\n",
    "plt.grid('on')\n",
    "plt.show()"
   ]
  }
 ],
 "metadata": {
  "kernelspec": {
   "display_name": "Python 3 (ipykernel)",
   "language": "python",
   "name": "python3"
  },
  "language_info": {
   "codemirror_mode": {
    "name": "ipython",
    "version": 3
   },
   "file_extension": ".py",
   "mimetype": "text/x-python",
   "name": "python",
   "nbconvert_exporter": "python",
   "pygments_lexer": "ipython3",
   "version": "3.10.8"
  }
 },
 "nbformat": 4,
 "nbformat_minor": 5
}
