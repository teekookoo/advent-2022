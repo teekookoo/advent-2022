{
 "cells": [
  {
   "cell_type": "markdown",
   "id": "6105cb79",
   "metadata": {
    "jp-MarkdownHeadingCollapsed": true,
    "tags": []
   },
   "source": [
    "# Setup"
   ]
  },
  {
   "cell_type": "markdown",
   "id": "8a311e04",
   "metadata": {
    "tags": []
   },
   "source": [
    "## Imports"
   ]
  },
  {
   "cell_type": "code",
   "execution_count": 1,
   "id": "a6d156cc",
   "metadata": {},
   "outputs": [],
   "source": [
    "import numpy as np\n",
    "import matplotlib.pyplot as plt\n",
    "\n",
    "from utils import Stopwatch, chunksof"
   ]
  },
  {
   "cell_type": "markdown",
   "id": "61cf5e66",
   "metadata": {},
   "source": [
    "## Timing"
   ]
  },
  {
   "cell_type": "code",
   "execution_count": 2,
   "id": "366727a5",
   "metadata": {},
   "outputs": [],
   "source": [
    "stopwatch = Stopwatch()\n",
    "stopwatch.start()"
   ]
  },
  {
   "cell_type": "markdown",
   "id": "d7194ecd",
   "metadata": {
    "jp-MarkdownHeadingCollapsed": true,
    "tags": []
   },
   "source": [
    "# Day 1"
   ]
  },
  {
   "cell_type": "markdown",
   "id": "6312997c",
   "metadata": {},
   "source": [
    "## Process input"
   ]
  },
  {
   "cell_type": "code",
   "execution_count": 3,
   "id": "f9893cc8",
   "metadata": {},
   "outputs": [],
   "source": [
    "with open('inputs/01') as f:\n",
    "    chunks = f.read().rstrip().split('\\n\\n')\n",
    "cals = [sum(int(n) for n in c.splitlines()) for c in chunks]"
   ]
  },
  {
   "cell_type": "markdown",
   "id": "09c7187a",
   "metadata": {},
   "source": [
    "## Part 1"
   ]
  },
  {
   "cell_type": "code",
   "execution_count": 4,
   "id": "dc249c23",
   "metadata": {},
   "outputs": [
    {
     "name": "stdout",
     "output_type": "stream",
     "text": [
      "74394\n"
     ]
    }
   ],
   "source": [
    "print(max(cals))\n",
    "stopwatch.add_split()"
   ]
  },
  {
   "cell_type": "markdown",
   "id": "8ee18d20",
   "metadata": {
    "tags": []
   },
   "source": [
    "## Part 2"
   ]
  },
  {
   "cell_type": "code",
   "execution_count": 5,
   "id": "1bbad0a3",
   "metadata": {},
   "outputs": [
    {
     "name": "stdout",
     "output_type": "stream",
     "text": [
      "212836\n"
     ]
    }
   ],
   "source": [
    "print(sum(sorted(cals)[-3:]))\n",
    "stopwatch.add_split()"
   ]
  },
  {
   "cell_type": "markdown",
   "id": "a07947ff",
   "metadata": {
    "jp-MarkdownHeadingCollapsed": true,
    "tags": []
   },
   "source": [
    "# Day 2"
   ]
  },
  {
   "cell_type": "markdown",
   "id": "069be05f",
   "metadata": {},
   "source": [
    "## Process input"
   ]
  },
  {
   "cell_type": "code",
   "execution_count": 6,
   "id": "3dec1409",
   "metadata": {},
   "outputs": [],
   "source": [
    "mapping = {\n",
    "    'A': 0, 'B': 1, 'C': 2,\n",
    "    'X': 0, 'Y': 1, 'Z': 2,\n",
    "}\n",
    "\n",
    "with open('inputs/02') as f:\n",
    "    rounds = [(mapping[a], mapping[b]) for a, b in (line.strip().split() for line in f)]"
   ]
  },
  {
   "cell_type": "markdown",
   "id": "a951f7ac",
   "metadata": {},
   "source": [
    "## Part 1"
   ]
  },
  {
   "cell_type": "code",
   "execution_count": 7,
   "id": "bb0a142c",
   "metadata": {},
   "outputs": [
    {
     "name": "stdout",
     "output_type": "stream",
     "text": [
      "9241\n"
     ]
    }
   ],
   "source": [
    "succ = lambda a: (a + 1) % 3\n",
    "pred = lambda a: (a - 1) % 3\n",
    "    \n",
    "def score_round(a, b):\n",
    "    if a == b:\n",
    "        return b + 4\n",
    "    elif b == succ(a):\n",
    "        return b + 7\n",
    "    else:\n",
    "        return b + 1\n",
    "\n",
    "print(sum(score_round(*x) for x in rounds))\n",
    "stopwatch.add_split()"
   ]
  },
  {
   "cell_type": "markdown",
   "id": "20219f8c",
   "metadata": {},
   "source": [
    "## Part 2"
   ]
  },
  {
   "cell_type": "code",
   "execution_count": 8,
   "id": "6ca89084",
   "metadata": {},
   "outputs": [
    {
     "name": "stdout",
     "output_type": "stream",
     "text": [
      "14610\n"
     ]
    }
   ],
   "source": [
    "def score_round(a, b):\n",
    "    if b == 0:\n",
    "        return pred(a) + 1\n",
    "    elif b == 1:\n",
    "        return a + 4\n",
    "    else:\n",
    "        return succ(a) + 7\n",
    "\n",
    "print(sum(score_round(*x) for x in rounds))\n",
    "stopwatch.add_split()"
   ]
  },
  {
   "cell_type": "markdown",
   "id": "f69043db",
   "metadata": {
    "jp-MarkdownHeadingCollapsed": true,
    "tags": []
   },
   "source": [
    "# Day 3"
   ]
  },
  {
   "cell_type": "markdown",
   "id": "ab20eec4",
   "metadata": {
    "tags": []
   },
   "source": [
    "## Process input"
   ]
  },
  {
   "cell_type": "code",
   "execution_count": 9,
   "id": "711dc1fb",
   "metadata": {},
   "outputs": [],
   "source": [
    "def to_sack(contents):\n",
    "    n = len(contents)\n",
    "    assert n % 2 == 0\n",
    "    i = n//2\n",
    "    return set(contents[:i]), set(contents[i:])\n",
    "\n",
    "with open('inputs/03') as f:\n",
    "    sacks = [to_sack(line.rstrip()) for line in f]"
   ]
  },
  {
   "cell_type": "markdown",
   "id": "2b7bd63f",
   "metadata": {},
   "source": [
    "## Part 1"
   ]
  },
  {
   "cell_type": "code",
   "execution_count": 10,
   "id": "36274e7c-5008-4d74-84c2-5df2d2a3a0d1",
   "metadata": {},
   "outputs": [
    {
     "name": "stdout",
     "output_type": "stream",
     "text": [
      "7824\n"
     ]
    }
   ],
   "source": [
    "def priority(item):\n",
    "    if 'a' <= item <= 'z':\n",
    "        return ord(item) - ord('a') + 1\n",
    "    else:\n",
    "        return ord(item) - ord('A') + 27\n",
    "\n",
    "print(sum(priority(*(a & b)) for a, b in sacks))\n",
    "stopwatch.add_split()"
   ]
  },
  {
   "cell_type": "markdown",
   "id": "1971c959",
   "metadata": {},
   "source": [
    "## Part 2"
   ]
  },
  {
   "cell_type": "code",
   "execution_count": 11,
   "id": "3600eeb9",
   "metadata": {},
   "outputs": [
    {
     "name": "stdout",
     "output_type": "stream",
     "text": [
      "2798\n"
     ]
    }
   ],
   "source": [
    "merged = (a | b for a, b in sacks)\n",
    "groups = chunksof(3, merged)\n",
    "badges = (a & b & c for a, b, c in groups)\n",
    "print(sum(priority(*b) for b in badges))\n",
    "stopwatch.add_split()"
   ]
  },
  {
   "cell_type": "markdown",
   "id": "33f54391",
   "metadata": {
    "jp-MarkdownHeadingCollapsed": true,
    "tags": []
   },
   "source": [
    "# Day 4"
   ]
  },
  {
   "cell_type": "markdown",
   "id": "d0b00161",
   "metadata": {},
   "source": [
    "## Process input"
   ]
  },
  {
   "cell_type": "code",
   "execution_count": 12,
   "id": "234e29a7",
   "metadata": {},
   "outputs": [],
   "source": [
    "def parse_range(r):\n",
    "    start, end = r.split('-')\n",
    "    return int(start), int(end)\n",
    "\n",
    "def parse_row(r):\n",
    "    a, b = r.rstrip().split(',')\n",
    "    return parse_range(a), parse_range(b)\n",
    "\n",
    "with open('inputs/04') as f:\n",
    "    pairs = [parse_row(r) for r in f]"
   ]
  },
  {
   "cell_type": "markdown",
   "id": "0ed48b22",
   "metadata": {},
   "source": [
    "## Part 1"
   ]
  },
  {
   "cell_type": "code",
   "execution_count": 13,
   "id": "a7d5b75b-fd94-4c41-91cd-3008993fdc49",
   "metadata": {},
   "outputs": [
    {
     "name": "stdout",
     "output_type": "stream",
     "text": [
      "498\n"
     ]
    }
   ],
   "source": [
    "def intersect(a, b):\n",
    "    (x, y) = a\n",
    "    (z, w) = b\n",
    "    overlap = x <= w and y >= z\n",
    "    if overlap:\n",
    "        return (max(x, z), min(y, w))\n",
    "    else:\n",
    "        return None\n",
    "\n",
    "def fully_contained(a, b):\n",
    "    x = intersect(a, b)\n",
    "    return a == x or b == x\n",
    "\n",
    "print(sum(1 for a, b in pairs if fully_contained(a, b)))\n",
    "stopwatch.add_split()"
   ]
  },
  {
   "cell_type": "markdown",
   "id": "b3da16aa",
   "metadata": {},
   "source": [
    "## Part 2"
   ]
  },
  {
   "cell_type": "code",
   "execution_count": 14,
   "id": "54c11dce",
   "metadata": {},
   "outputs": [
    {
     "name": "stdout",
     "output_type": "stream",
     "text": [
      "859\n"
     ]
    }
   ],
   "source": [
    "print(sum(1 for a, b in pairs if intersect(a, b) != None))\n",
    "stopwatch.add_split()"
   ]
  },
  {
   "cell_type": "markdown",
   "id": "3d8dce7d",
   "metadata": {
    "jp-MarkdownHeadingCollapsed": true,
    "tags": []
   },
   "source": [
    "# Day 5"
   ]
  },
  {
   "cell_type": "markdown",
   "id": "b3e2186a",
   "metadata": {},
   "source": [
    "## Process input"
   ]
  },
  {
   "cell_type": "code",
   "execution_count": 15,
   "id": "3326fed7",
   "metadata": {},
   "outputs": [],
   "source": [
    "def parse_container_line(s):\n",
    "    containers = []\n",
    "    for i, j in enumerate(range(1, len(s), 4)):\n",
    "        if s[j] == ' ':\n",
    "            continue\n",
    "        containers.append((i, s[j]))\n",
    "    return containers\n",
    "\n",
    "def parse_command_line(s):\n",
    "    parts = s.split()\n",
    "    return int(parts[1]), int(parts[3]) - 1, int(parts[5]) - 1\n",
    "\n",
    "with open('inputs/05') as f:\n",
    "    container_string, command_string = f.read().rstrip().split('\\n\\n')\n",
    "\n",
    "container_lines = container_string.split('\\n')\n",
    "command_lines = command_string.split('\\n')\n",
    "\n",
    "num_stacks = len(container_lines[-1].strip().split())\n",
    "stacks = [[] for _ in range(num_stacks)]\n",
    "for line in reversed(container_lines[:-1]):\n",
    "    for stack, container in parse_container_line(line):\n",
    "        stacks[stack].append(container)\n",
    "\n",
    "commands = [parse_command_line(l) for l in command_lines]"
   ]
  },
  {
   "cell_type": "markdown",
   "id": "52f85392",
   "metadata": {},
   "source": [
    "## Part 1"
   ]
  },
  {
   "cell_type": "code",
   "execution_count": 16,
   "id": "9830d1e8",
   "metadata": {},
   "outputs": [
    {
     "name": "stdout",
     "output_type": "stream",
     "text": [
      "TPGVQPFDH\n"
     ]
    }
   ],
   "source": [
    "def apply(command, stacks):\n",
    "    num, src, dst = command\n",
    "    for _ in range(num):\n",
    "        stacks[dst].append(stacks[src].pop())\n",
    "\n",
    "stacks_copy = [s.copy() for s in stacks]\n",
    "for c in commands:\n",
    "    apply(c, stacks_copy)\n",
    "    \n",
    "print(''.join(s[-1] for s in stacks_copy))\n",
    "stopwatch.add_split()"
   ]
  },
  {
   "cell_type": "markdown",
   "id": "ae20a055",
   "metadata": {},
   "source": [
    "## Part 2"
   ]
  },
  {
   "cell_type": "code",
   "execution_count": 17,
   "id": "9b6ea002",
   "metadata": {},
   "outputs": [
    {
     "name": "stdout",
     "output_type": "stream",
     "text": [
      "DMRDFRHHH\n"
     ]
    }
   ],
   "source": [
    "def apply(command, stacks):\n",
    "    num, src, dst = command\n",
    "    stacks[dst] += stacks[src][-num:]\n",
    "    del stacks[src][-num:]\n",
    "\n",
    "stacks_copy = [s.copy() for s in stacks]\n",
    "for c in commands:\n",
    "    apply(c, stacks_copy)\n",
    "    \n",
    "print(''.join(s[-1] for s in stacks_copy))\n",
    "stopwatch.add_split()"
   ]
  },
  {
   "cell_type": "markdown",
   "id": "8692bf0b",
   "metadata": {
    "jp-MarkdownHeadingCollapsed": true,
    "tags": []
   },
   "source": [
    "# Day 6"
   ]
  },
  {
   "cell_type": "markdown",
   "id": "54cc1f8a",
   "metadata": {},
   "source": [
    "## Process input"
   ]
  },
  {
   "cell_type": "code",
   "execution_count": 18,
   "id": "a49b3c9f",
   "metadata": {},
   "outputs": [],
   "source": [
    "with open('inputs/06') as f:\n",
    "    signal = f.read().rstrip()"
   ]
  },
  {
   "cell_type": "markdown",
   "id": "f5b82b13",
   "metadata": {},
   "source": [
    "## Part 1"
   ]
  },
  {
   "cell_type": "code",
   "execution_count": 19,
   "id": "4aea71c9",
   "metadata": {},
   "outputs": [
    {
     "name": "stdout",
     "output_type": "stream",
     "text": [
      "1794\n"
     ]
    }
   ],
   "source": [
    "def marker_index(num_chars, signal):\n",
    "    for i in range(0, len(signal)-num_chars):\n",
    "        j = i + num_chars\n",
    "        if len(set(signal[i:j])) == num_chars:\n",
    "            return j\n",
    "        \n",
    "    assert False, \"A signal start was not found\"\n",
    "\n",
    "print(marker_index(4, signal))\n",
    "stopwatch.add_split()"
   ]
  },
  {
   "cell_type": "markdown",
   "id": "b3076247",
   "metadata": {},
   "source": [
    "## Part 2"
   ]
  },
  {
   "cell_type": "code",
   "execution_count": 20,
   "id": "191cc9bb",
   "metadata": {},
   "outputs": [
    {
     "name": "stdout",
     "output_type": "stream",
     "text": [
      "2851\n"
     ]
    }
   ],
   "source": [
    "print(marker_index(14, signal))\n",
    "stopwatch.add_split()"
   ]
  },
  {
   "cell_type": "markdown",
   "id": "4fbeddd1",
   "metadata": {
    "jp-MarkdownHeadingCollapsed": true,
    "tags": []
   },
   "source": [
    "# Day X"
   ]
  },
  {
   "cell_type": "markdown",
   "id": "90fd1b79",
   "metadata": {},
   "source": [
    "## Process input"
   ]
  },
  {
   "cell_type": "markdown",
   "id": "5534c983",
   "metadata": {},
   "source": [
    "## Part 1"
   ]
  },
  {
   "cell_type": "markdown",
   "id": "70d651b2",
   "metadata": {},
   "source": [
    "## Part 2"
   ]
  },
  {
   "cell_type": "markdown",
   "id": "41a85bd2",
   "metadata": {},
   "source": [
    "# Performance analysis"
   ]
  },
  {
   "cell_type": "code",
   "execution_count": 21,
   "id": "51896678",
   "metadata": {},
   "outputs": [
    {
     "data": {
      "image/png": "[encoded data removed]",
      "text/plain": [
       "<Figure size 640x480 with 1 Axes>"
      ]
     },
     "metadata": {},
     "output_type": "display_data"
    }
   ],
   "source": [
    "t = np.array(stopwatch.stop(add_split=False), dtype=int)\n",
    "plt.plot(np.arange(len(t)), t / 1e9)\n",
    "plt.xlabel('stars')\n",
    "plt.ylabel('time (s)')\n",
    "plt.grid('on')\n",
    "plt.show()"
   ]
  }
 ],
 "metadata": {
  "kernelspec": {
   "display_name": "Python 3 (ipykernel)",
   "language": "python",
   "name": "python3"
  },
  "language_info": {
   "codemirror_mode": {
    "name": "ipython",
    "version": 3
   },
   "file_extension": ".py",
   "mimetype": "text/x-python",
   "name": "python",
   "nbconvert_exporter": "python",
   "pygments_lexer": "ipython3",
   "version": "3.10.8"
  }
 },
 "nbformat": 4,
 "nbformat_minor": 5
}
